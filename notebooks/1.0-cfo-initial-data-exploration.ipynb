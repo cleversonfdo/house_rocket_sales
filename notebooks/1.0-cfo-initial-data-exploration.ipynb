{
 "cells": [
  {
   "cell_type": "markdown",
   "id": "46c3127c",
   "metadata": {},
   "source": [
    "# 0.0 IMPORTS"
   ]
  },
  {
   "cell_type": "markdown",
   "id": "93a60ce4",
   "metadata": {},
   "source": [
    "## NOTES"
   ]
  },
  {
   "cell_type": "markdown",
   "id": "b3fc7122",
   "metadata": {},
   "source": [
    "**import warnings**: used to omit the warnings in the code\n",
    "\n",
    "warnings.filterwarnings('ignore')\n",
    "\n",
    "**import ipywidgets as widgets**: Widgets are eventful python objects that have a representation in the browser, often as a control like a slider, textbox, etc (ipython.org)\n",
    "\n",
    "**import seaborn as sns**: Seaborn is a Python data visualization library based on matplotlib. It provides a high-level interface for drawing attractive and informative statistical graphics. (pydata.org)\n",
    "\n",
    "**import plotly.express as px**: The plotly.express module (usually imported as px) contains functions that can create entire figures at once, and is referred to as Plotly Express or PX. (plotly.com)\n",
    "\n",
    "**import pandas as pd**: pandas is a fast, powerful, flexible and easy to use open source data analysis and manipulation tool (pydata.org)\n",
    "\n",
    "**import numpy as np**: It is a Python library that provides a multidimensional array object, various derived objects (such as masked arrays and matrices), and an assortment of routines for fast operations on arrays, including mathematical, logical, shape manipulation, sorting, selecting, I/O, discrete Fourier transforms, basic linear algebra, basic statistical operations, random simulation and much more. (numpy.org)\n",
    "\n",
    "**from matplotlib import pyplot as plt**: Matplotlib is a comprehensive library for creating static, animated, and interactive visualizations in Python (matplotlib.org)\n",
    "\n",
    "**from ipywidgets import fixed, interact, interactive, fixed, interact_manual**\n",
    "\n",
    "**from geopy.geocoders import Nominatim**: geopy is a Python client for several popular geocoding web services (pypi.org). Nominatim uses OpenStreetMap data to find locations on Earth by name and address (geocoding). It can also do the reverse, find an address for any location on the planet (nominatim.org).  Each geolocation service you might use, such as Google Maps, Bing Maps, or Nominatim, has its own class in geopy.geocoders abstracting the service’s API. Geocoders each define at least a geocode method, for resolving a location from a string, and may define a reverse method, which resolves a pair of coordinates to an address. Each Geocoder accepts any credentials or settings needed to interact with its service, e.g., an API key or locale, during its initialization.\n",
    "\n",
    "**from tabulate import tabulate**: Pretty-print tabular data in Python, a library and a command-line utility (pypi.org)\n",
    "\n",
    "**from matplotlib import gridspec**: A grid layout to place subplots within a figure (matplotlib.org)\n",
    "\n",
    "**from IPython.display import Image**: Public API for display tools in IPython (pypi.org)"
   ]
  },
  {
   "cell_type": "markdown",
   "id": "fa5e2e81",
   "metadata": {},
   "source": [
    "## Imports"
   ]
  },
  {
   "cell_type": "code",
   "execution_count": 8,
   "id": "43a162c4",
   "metadata": {
    "ExecuteTime": {
     "end_time": "2022-02-23T00:47:50.559546Z",
     "start_time": "2022-02-23T00:47:50.499361Z"
    }
   },
   "outputs": [],
   "source": [
    "import warnings\n",
    "\n",
    "warnings.filterwarnings('ignore')\n",
    "\n",
    "import ipywidgets     as widgets\n",
    "import seaborn        as sns\n",
    "import plotly.express as px\n",
    "\n",
    "import pandas         as pd\n",
    "import numpy          as np\n",
    "\n",
    "from matplotlib       import pyplot    as plt\n",
    "\n",
    "from ipywidgets       import fixed,interact, interactive, fixed, interact_manual\n",
    "from geopy.geocoders  import Nominatim\n",
    "from tabulate         import tabulate\n",
    "from matplotlib       import gridspec\n",
    "from IPython.display  import Image \n",
    "from pathlib          import Path"
   ]
  },
  {
   "cell_type": "markdown",
   "id": "3e9bd10a",
   "metadata": {},
   "source": [
    "## 0.1 Helper Function"
   ]
  },
  {
   "cell_type": "code",
   "execution_count": 9,
   "id": "78fcb7f4",
   "metadata": {
    "ExecuteTime": {
     "end_time": "2022-02-23T00:47:50.654939Z",
     "start_time": "2022-02-23T00:47:50.577590Z"
    }
   },
   "outputs": [
    {
     "name": "stdout",
     "output_type": "stream",
     "text": [
      "%pylab is deprecated, use %matplotlib inline and import the required libraries.\n",
      "Populating the interactive namespace from numpy and matplotlib\n"
     ]
    }
   ],
   "source": [
    "pd.set_option('display.float_format', lambda x: '%.2f' % x)\n",
    "\n",
    "def jupyter_settings():\n",
    "    %matplotlib inline\n",
    "    %pylab inline\n",
    "    \n",
    "    plt.style.use('bmh')\n",
    "    plt.rcParams['figure.figsize'] = [25, 12]\n",
    "    plt.rcParams['font.size'] = 24\n",
    "    \n",
    "    sns.set()\n",
    "\n",
    "jupyter_settings()"
   ]
  },
  {
   "cell_type": "markdown",
   "id": "1e6d0bdc",
   "metadata": {},
   "source": [
    "# 1.0 DATA DESCRIPTION"
   ]
  },
  {
   "cell_type": "code",
   "execution_count": 10,
   "id": "bcdddd04",
   "metadata": {
    "ExecuteTime": {
     "end_time": "2022-02-23T00:47:51.014069Z",
     "start_time": "2022-02-23T00:47:50.668743Z"
    }
   },
   "outputs": [],
   "source": [
    "df1 = pd.read_csv(Path(\"/home/work/Documents/repos/python_zero_ao_ds_github/data/kc_house_data.csv\"))"
   ]
  },
  {
   "cell_type": "code",
   "execution_count": 11,
   "id": "b5069997",
   "metadata": {
    "ExecuteTime": {
     "end_time": "2022-02-23T00:47:51.278004Z",
     "start_time": "2022-02-23T00:47:51.032794Z"
    }
   },
   "outputs": [
    {
     "data": {
      "text/html": [
       "<div>\n",
       "<style scoped>\n",
       "    .dataframe tbody tr th:only-of-type {\n",
       "        vertical-align: middle;\n",
       "    }\n",
       "\n",
       "    .dataframe tbody tr th {\n",
       "        vertical-align: top;\n",
       "    }\n",
       "\n",
       "    .dataframe thead th {\n",
       "        text-align: right;\n",
       "    }\n",
       "</style>\n",
       "<table border=\"1\" class=\"dataframe\">\n",
       "  <thead>\n",
       "    <tr style=\"text-align: right;\">\n",
       "      <th></th>\n",
       "      <th>id</th>\n",
       "      <th>date</th>\n",
       "      <th>price</th>\n",
       "      <th>bedrooms</th>\n",
       "      <th>bathrooms</th>\n",
       "      <th>sqft_living</th>\n",
       "      <th>sqft_lot</th>\n",
       "      <th>floors</th>\n",
       "      <th>waterfront</th>\n",
       "      <th>view</th>\n",
       "      <th>...</th>\n",
       "      <th>grade</th>\n",
       "      <th>sqft_above</th>\n",
       "      <th>sqft_basement</th>\n",
       "      <th>yr_built</th>\n",
       "      <th>yr_renovated</th>\n",
       "      <th>zipcode</th>\n",
       "      <th>lat</th>\n",
       "      <th>long</th>\n",
       "      <th>sqft_living15</th>\n",
       "      <th>sqft_lot15</th>\n",
       "    </tr>\n",
       "  </thead>\n",
       "  <tbody>\n",
       "    <tr>\n",
       "      <th>94</th>\n",
       "      <td>6021501535</td>\n",
       "      <td>20141223T000000</td>\n",
       "      <td>700000.00</td>\n",
       "      <td>3</td>\n",
       "      <td>1.50</td>\n",
       "      <td>1580</td>\n",
       "      <td>5000</td>\n",
       "      <td>1.00</td>\n",
       "      <td>0</td>\n",
       "      <td>0</td>\n",
       "      <td>...</td>\n",
       "      <td>8</td>\n",
       "      <td>1290</td>\n",
       "      <td>290</td>\n",
       "      <td>1939</td>\n",
       "      <td>0</td>\n",
       "      <td>98117</td>\n",
       "      <td>47.69</td>\n",
       "      <td>-122.39</td>\n",
       "      <td>1570</td>\n",
       "      <td>4500</td>\n",
       "    </tr>\n",
       "    <tr>\n",
       "      <th>314</th>\n",
       "      <td>4139480200</td>\n",
       "      <td>20141209T000000</td>\n",
       "      <td>1400000.00</td>\n",
       "      <td>4</td>\n",
       "      <td>3.25</td>\n",
       "      <td>4290</td>\n",
       "      <td>12103</td>\n",
       "      <td>1.00</td>\n",
       "      <td>0</td>\n",
       "      <td>3</td>\n",
       "      <td>...</td>\n",
       "      <td>11</td>\n",
       "      <td>2690</td>\n",
       "      <td>1600</td>\n",
       "      <td>1997</td>\n",
       "      <td>0</td>\n",
       "      <td>98006</td>\n",
       "      <td>47.55</td>\n",
       "      <td>-122.10</td>\n",
       "      <td>3860</td>\n",
       "      <td>11244</td>\n",
       "    </tr>\n",
       "    <tr>\n",
       "      <th>325</th>\n",
       "      <td>7520000520</td>\n",
       "      <td>20150311T000000</td>\n",
       "      <td>240500.00</td>\n",
       "      <td>2</td>\n",
       "      <td>1.00</td>\n",
       "      <td>1240</td>\n",
       "      <td>12092</td>\n",
       "      <td>1.00</td>\n",
       "      <td>0</td>\n",
       "      <td>0</td>\n",
       "      <td>...</td>\n",
       "      <td>6</td>\n",
       "      <td>960</td>\n",
       "      <td>280</td>\n",
       "      <td>1922</td>\n",
       "      <td>1984</td>\n",
       "      <td>98146</td>\n",
       "      <td>47.50</td>\n",
       "      <td>-122.35</td>\n",
       "      <td>1820</td>\n",
       "      <td>7460</td>\n",
       "    </tr>\n",
       "    <tr>\n",
       "      <th>346</th>\n",
       "      <td>3969300030</td>\n",
       "      <td>20141229T000000</td>\n",
       "      <td>239900.00</td>\n",
       "      <td>4</td>\n",
       "      <td>1.00</td>\n",
       "      <td>1000</td>\n",
       "      <td>7134</td>\n",
       "      <td>1.00</td>\n",
       "      <td>0</td>\n",
       "      <td>0</td>\n",
       "      <td>...</td>\n",
       "      <td>6</td>\n",
       "      <td>1000</td>\n",
       "      <td>0</td>\n",
       "      <td>1943</td>\n",
       "      <td>0</td>\n",
       "      <td>98178</td>\n",
       "      <td>47.49</td>\n",
       "      <td>-122.24</td>\n",
       "      <td>1020</td>\n",
       "      <td>7138</td>\n",
       "    </tr>\n",
       "    <tr>\n",
       "      <th>372</th>\n",
       "      <td>2231500030</td>\n",
       "      <td>20150324T000000</td>\n",
       "      <td>530000.00</td>\n",
       "      <td>4</td>\n",
       "      <td>2.25</td>\n",
       "      <td>2180</td>\n",
       "      <td>10754</td>\n",
       "      <td>1.00</td>\n",
       "      <td>0</td>\n",
       "      <td>0</td>\n",
       "      <td>...</td>\n",
       "      <td>7</td>\n",
       "      <td>1100</td>\n",
       "      <td>1080</td>\n",
       "      <td>1954</td>\n",
       "      <td>0</td>\n",
       "      <td>98133</td>\n",
       "      <td>47.77</td>\n",
       "      <td>-122.34</td>\n",
       "      <td>1810</td>\n",
       "      <td>6929</td>\n",
       "    </tr>\n",
       "    <tr>\n",
       "      <th>...</th>\n",
       "      <td>...</td>\n",
       "      <td>...</td>\n",
       "      <td>...</td>\n",
       "      <td>...</td>\n",
       "      <td>...</td>\n",
       "      <td>...</td>\n",
       "      <td>...</td>\n",
       "      <td>...</td>\n",
       "      <td>...</td>\n",
       "      <td>...</td>\n",
       "      <td>...</td>\n",
       "      <td>...</td>\n",
       "      <td>...</td>\n",
       "      <td>...</td>\n",
       "      <td>...</td>\n",
       "      <td>...</td>\n",
       "      <td>...</td>\n",
       "      <td>...</td>\n",
       "      <td>...</td>\n",
       "      <td>...</td>\n",
       "      <td>...</td>\n",
       "    </tr>\n",
       "    <tr>\n",
       "      <th>20181</th>\n",
       "      <td>7853400250</td>\n",
       "      <td>20150219T000000</td>\n",
       "      <td>645000.00</td>\n",
       "      <td>4</td>\n",
       "      <td>3.50</td>\n",
       "      <td>2910</td>\n",
       "      <td>5260</td>\n",
       "      <td>2.00</td>\n",
       "      <td>0</td>\n",
       "      <td>0</td>\n",
       "      <td>...</td>\n",
       "      <td>9</td>\n",
       "      <td>2910</td>\n",
       "      <td>0</td>\n",
       "      <td>2012</td>\n",
       "      <td>0</td>\n",
       "      <td>98065</td>\n",
       "      <td>47.52</td>\n",
       "      <td>-121.88</td>\n",
       "      <td>2910</td>\n",
       "      <td>5260</td>\n",
       "    </tr>\n",
       "    <tr>\n",
       "      <th>20613</th>\n",
       "      <td>2724049222</td>\n",
       "      <td>20141201T000000</td>\n",
       "      <td>220000.00</td>\n",
       "      <td>2</td>\n",
       "      <td>2.50</td>\n",
       "      <td>1000</td>\n",
       "      <td>1092</td>\n",
       "      <td>2.00</td>\n",
       "      <td>0</td>\n",
       "      <td>0</td>\n",
       "      <td>...</td>\n",
       "      <td>7</td>\n",
       "      <td>990</td>\n",
       "      <td>10</td>\n",
       "      <td>2004</td>\n",
       "      <td>0</td>\n",
       "      <td>98118</td>\n",
       "      <td>47.54</td>\n",
       "      <td>-122.27</td>\n",
       "      <td>1330</td>\n",
       "      <td>1466</td>\n",
       "    </tr>\n",
       "    <tr>\n",
       "      <th>20670</th>\n",
       "      <td>8564860270</td>\n",
       "      <td>20150330T000000</td>\n",
       "      <td>502000.00</td>\n",
       "      <td>4</td>\n",
       "      <td>2.50</td>\n",
       "      <td>2680</td>\n",
       "      <td>5539</td>\n",
       "      <td>2.00</td>\n",
       "      <td>0</td>\n",
       "      <td>0</td>\n",
       "      <td>...</td>\n",
       "      <td>8</td>\n",
       "      <td>2680</td>\n",
       "      <td>0</td>\n",
       "      <td>2013</td>\n",
       "      <td>0</td>\n",
       "      <td>98045</td>\n",
       "      <td>47.48</td>\n",
       "      <td>-121.73</td>\n",
       "      <td>2680</td>\n",
       "      <td>5992</td>\n",
       "    </tr>\n",
       "    <tr>\n",
       "      <th>20780</th>\n",
       "      <td>6300000226</td>\n",
       "      <td>20150504T000000</td>\n",
       "      <td>380000.00</td>\n",
       "      <td>4</td>\n",
       "      <td>1.00</td>\n",
       "      <td>1200</td>\n",
       "      <td>2171</td>\n",
       "      <td>1.50</td>\n",
       "      <td>0</td>\n",
       "      <td>0</td>\n",
       "      <td>...</td>\n",
       "      <td>7</td>\n",
       "      <td>1200</td>\n",
       "      <td>0</td>\n",
       "      <td>1933</td>\n",
       "      <td>0</td>\n",
       "      <td>98133</td>\n",
       "      <td>47.71</td>\n",
       "      <td>-122.34</td>\n",
       "      <td>1130</td>\n",
       "      <td>1598</td>\n",
       "    </tr>\n",
       "    <tr>\n",
       "      <th>21581</th>\n",
       "      <td>7853420110</td>\n",
       "      <td>20150504T000000</td>\n",
       "      <td>625000.00</td>\n",
       "      <td>3</td>\n",
       "      <td>3.00</td>\n",
       "      <td>2780</td>\n",
       "      <td>6000</td>\n",
       "      <td>2.00</td>\n",
       "      <td>0</td>\n",
       "      <td>0</td>\n",
       "      <td>...</td>\n",
       "      <td>9</td>\n",
       "      <td>2780</td>\n",
       "      <td>0</td>\n",
       "      <td>2013</td>\n",
       "      <td>0</td>\n",
       "      <td>98065</td>\n",
       "      <td>47.52</td>\n",
       "      <td>-121.89</td>\n",
       "      <td>2850</td>\n",
       "      <td>6000</td>\n",
       "    </tr>\n",
       "  </tbody>\n",
       "</table>\n",
       "<p>177 rows × 21 columns</p>\n",
       "</div>"
      ],
      "text/plain": [
       "               id             date      price  bedrooms  bathrooms  \\\n",
       "94     6021501535  20141223T000000  700000.00         3       1.50   \n",
       "314    4139480200  20141209T000000 1400000.00         4       3.25   \n",
       "325    7520000520  20150311T000000  240500.00         2       1.00   \n",
       "346    3969300030  20141229T000000  239900.00         4       1.00   \n",
       "372    2231500030  20150324T000000  530000.00         4       2.25   \n",
       "...           ...              ...        ...       ...        ...   \n",
       "20181  7853400250  20150219T000000  645000.00         4       3.50   \n",
       "20613  2724049222  20141201T000000  220000.00         2       2.50   \n",
       "20670  8564860270  20150330T000000  502000.00         4       2.50   \n",
       "20780  6300000226  20150504T000000  380000.00         4       1.00   \n",
       "21581  7853420110  20150504T000000  625000.00         3       3.00   \n",
       "\n",
       "       sqft_living  sqft_lot  floors  waterfront  view  ...  grade  \\\n",
       "94            1580      5000    1.00           0     0  ...      8   \n",
       "314           4290     12103    1.00           0     3  ...     11   \n",
       "325           1240     12092    1.00           0     0  ...      6   \n",
       "346           1000      7134    1.00           0     0  ...      6   \n",
       "372           2180     10754    1.00           0     0  ...      7   \n",
       "...            ...       ...     ...         ...   ...  ...    ...   \n",
       "20181         2910      5260    2.00           0     0  ...      9   \n",
       "20613         1000      1092    2.00           0     0  ...      7   \n",
       "20670         2680      5539    2.00           0     0  ...      8   \n",
       "20780         1200      2171    1.50           0     0  ...      7   \n",
       "21581         2780      6000    2.00           0     0  ...      9   \n",
       "\n",
       "       sqft_above  sqft_basement  yr_built  yr_renovated  zipcode   lat  \\\n",
       "94           1290            290      1939             0    98117 47.69   \n",
       "314          2690           1600      1997             0    98006 47.55   \n",
       "325           960            280      1922          1984    98146 47.50   \n",
       "346          1000              0      1943             0    98178 47.49   \n",
       "372          1100           1080      1954             0    98133 47.77   \n",
       "...           ...            ...       ...           ...      ...   ...   \n",
       "20181        2910              0      2012             0    98065 47.52   \n",
       "20613         990             10      2004             0    98118 47.54   \n",
       "20670        2680              0      2013             0    98045 47.48   \n",
       "20780        1200              0      1933             0    98133 47.71   \n",
       "21581        2780              0      2013             0    98065 47.52   \n",
       "\n",
       "         long  sqft_living15  sqft_lot15  \n",
       "94    -122.39           1570        4500  \n",
       "314   -122.10           3860       11244  \n",
       "325   -122.35           1820        7460  \n",
       "346   -122.24           1020        7138  \n",
       "372   -122.34           1810        6929  \n",
       "...       ...            ...         ...  \n",
       "20181 -121.88           2910        5260  \n",
       "20613 -122.27           1330        1466  \n",
       "20670 -121.73           2680        5992  \n",
       "20780 -122.34           1130        1598  \n",
       "21581 -121.89           2850        6000  \n",
       "\n",
       "[177 rows x 21 columns]"
      ]
     },
     "execution_count": 11,
     "metadata": {},
     "output_type": "execute_result"
    }
   ],
   "source": [
    "df1.loc[df1.duplicated(subset='id')]"
   ]
  },
  {
   "cell_type": "code",
   "execution_count": 12,
   "id": "2ddfc354",
   "metadata": {
    "ExecuteTime": {
     "end_time": "2022-02-23T00:47:51.326529Z",
     "start_time": "2022-02-23T00:47:51.290942Z"
    }
   },
   "outputs": [],
   "source": [
    "df1 = df1.drop_duplicates(subset='id')"
   ]
  },
  {
   "cell_type": "markdown",
   "id": "d2a4647b",
   "metadata": {
    "heading_collapsed": true
   },
   "source": [
    "## 1.1 Data Dimension"
   ]
  },
  {
   "cell_type": "code",
   "execution_count": 13,
   "id": "21088c9a",
   "metadata": {
    "ExecuteTime": {
     "end_time": "2022-02-23T00:47:51.368493Z",
     "start_time": "2022-02-23T00:47:51.340581Z"
    },
    "hidden": true
   },
   "outputs": [
    {
     "name": "stdout",
     "output_type": "stream",
     "text": [
      "Number of rows: 21436\n",
      "Number of columns: 21\n"
     ]
    }
   ],
   "source": [
    "print(f'Number of rows: {df1.shape[0]}')\n",
    "print(f'Number of columns: {df1.shape[1]}')"
   ]
  },
  {
   "cell_type": "code",
   "execution_count": 14,
   "id": "d57bdffa",
   "metadata": {
    "ExecuteTime": {
     "end_time": "2022-02-23T00:47:51.410069Z",
     "start_time": "2022-02-23T00:47:51.382243Z"
    },
    "hidden": true
   },
   "outputs": [
    {
     "data": {
      "text/plain": [
       "Index(['id', 'date', 'price', 'bedrooms', 'bathrooms', 'sqft_living',\n",
       "       'sqft_lot', 'floors', 'waterfront', 'view', 'condition', 'grade',\n",
       "       'sqft_above', 'sqft_basement', 'yr_built', 'yr_renovated', 'zipcode',\n",
       "       'lat', 'long', 'sqft_living15', 'sqft_lot15'],\n",
       "      dtype='object')"
      ]
     },
     "execution_count": 14,
     "metadata": {},
     "output_type": "execute_result"
    }
   ],
   "source": [
    "df1.columns"
   ]
  },
  {
   "cell_type": "markdown",
   "id": "dabfeb03",
   "metadata": {
    "heading_collapsed": true
   },
   "source": [
    "## 1.2 Data Types"
   ]
  },
  {
   "cell_type": "code",
   "execution_count": 15,
   "id": "3897a92b",
   "metadata": {
    "ExecuteTime": {
     "end_time": "2022-02-23T00:47:51.452577Z",
     "start_time": "2022-02-23T00:47:51.423535Z"
    },
    "hidden": true
   },
   "outputs": [
    {
     "name": "stdout",
     "output_type": "stream",
     "text": [
      "id                 int64\n",
      "date              object\n",
      "price            float64\n",
      "bedrooms           int64\n",
      "bathrooms        float64\n",
      "sqft_living        int64\n",
      "sqft_lot           int64\n",
      "floors           float64\n",
      "waterfront         int64\n",
      "view               int64\n",
      "condition          int64\n",
      "grade              int64\n",
      "sqft_above         int64\n",
      "sqft_basement      int64\n",
      "yr_built           int64\n",
      "yr_renovated       int64\n",
      "zipcode            int64\n",
      "lat              float64\n",
      "long             float64\n",
      "sqft_living15      int64\n",
      "sqft_lot15         int64\n",
      "dtype: object\n"
     ]
    }
   ],
   "source": [
    "print(df1.dtypes)"
   ]
  },
  {
   "cell_type": "markdown",
   "id": "1abe432e",
   "metadata": {
    "heading_collapsed": true
   },
   "source": [
    "## 1.3 Check NA"
   ]
  },
  {
   "cell_type": "code",
   "execution_count": 16,
   "id": "b9c81460",
   "metadata": {
    "ExecuteTime": {
     "end_time": "2022-02-23T00:47:51.569651Z",
     "start_time": "2022-02-23T00:47:51.482606Z"
    },
    "hidden": true
   },
   "outputs": [
    {
     "data": {
      "text/plain": [
       "id               0\n",
       "date             0\n",
       "price            0\n",
       "bedrooms         0\n",
       "bathrooms        0\n",
       "sqft_living      0\n",
       "sqft_lot         0\n",
       "floors           0\n",
       "waterfront       0\n",
       "view             0\n",
       "condition        0\n",
       "grade            0\n",
       "sqft_above       0\n",
       "sqft_basement    0\n",
       "yr_built         0\n",
       "yr_renovated     0\n",
       "zipcode          0\n",
       "lat              0\n",
       "long             0\n",
       "sqft_living15    0\n",
       "sqft_lot15       0\n",
       "dtype: int64"
      ]
     },
     "execution_count": 16,
     "metadata": {},
     "output_type": "execute_result"
    }
   ],
   "source": [
    "df1.isna().sum()"
   ]
  },
  {
   "cell_type": "markdown",
   "id": "fdecb0fb",
   "metadata": {},
   "source": [
    "## 1.4 Change Types"
   ]
  },
  {
   "cell_type": "code",
   "execution_count": 17,
   "id": "26b8b5c1",
   "metadata": {
    "ExecuteTime": {
     "end_time": "2022-02-23T00:47:51.645374Z",
     "start_time": "2022-02-23T00:47:51.596523Z"
    }
   },
   "outputs": [],
   "source": [
    "df1['date'] = pd.to_datetime(df1['date'])"
   ]
  },
  {
   "cell_type": "code",
   "execution_count": 18,
   "id": "2c7a229f",
   "metadata": {
    "ExecuteTime": {
     "end_time": "2022-02-23T00:47:51.703805Z",
     "start_time": "2022-02-23T00:47:51.662867Z"
    }
   },
   "outputs": [
    {
     "data": {
      "text/plain": [
       "array([1955, 1951, 1933, 1965, 1987, 2001, 1995, 1963, 1960, 2003, 1942,\n",
       "       1927, 1977, 1900, 1979, 1994, 1916, 1921, 1969, 1947, 1968, 1985,\n",
       "       1941, 1915, 1909, 1948, 2005, 1929, 1981, 1930, 1904, 1996, 2000,\n",
       "       1984, 2014, 1922, 1959, 1966, 1953, 1950, 2008, 1991, 1954, 1973,\n",
       "       1925, 1989, 1972, 1986, 1956, 2002, 1992, 1964, 1952, 1961, 2006,\n",
       "       1988, 1962, 1939, 1946, 1967, 1975, 1980, 1910, 1983, 1978, 1905,\n",
       "       1971, 2010, 1945, 1924, 1990, 1914, 1926, 2004, 1923, 2007, 1976,\n",
       "       1949, 1999, 1901, 1993, 1920, 1997, 1943, 1957, 1940, 1918, 1928,\n",
       "       1974, 1911, 1936, 1937, 1982, 1908, 1931, 1998, 1913, 2013, 1907,\n",
       "       1958, 2012, 1912, 2011, 1917, 1932, 1944, 1902, 2009, 1903, 1970,\n",
       "       2015, 1934, 1938, 1919, 1906, 1935])"
      ]
     },
     "execution_count": 18,
     "metadata": {},
     "output_type": "execute_result"
    }
   ],
   "source": [
    "df1['yr_built'].unique()"
   ]
  },
  {
   "cell_type": "code",
   "execution_count": 19,
   "id": "3ef93056",
   "metadata": {
    "ExecuteTime": {
     "end_time": "2022-02-23T00:47:51.771149Z",
     "start_time": "2022-02-23T00:47:51.715520Z"
    }
   },
   "outputs": [],
   "source": [
    "df1['yr_built'] = pd.to_datetime(df1['yr_built'], format='%Y')"
   ]
  },
  {
   "cell_type": "code",
   "execution_count": 20,
   "id": "10ff9f6a",
   "metadata": {
    "ExecuteTime": {
     "end_time": "2022-02-23T00:47:51.863772Z",
     "start_time": "2022-02-23T00:47:51.790920Z"
    }
   },
   "outputs": [
    {
     "data": {
      "text/plain": [
       "array(['1955-01-01T00:00:00.000000000', '1951-01-01T00:00:00.000000000',\n",
       "       '1933-01-01T00:00:00.000000000', '1965-01-01T00:00:00.000000000',\n",
       "       '1987-01-01T00:00:00.000000000', '2001-01-01T00:00:00.000000000',\n",
       "       '1995-01-01T00:00:00.000000000', '1963-01-01T00:00:00.000000000',\n",
       "       '1960-01-01T00:00:00.000000000', '2003-01-01T00:00:00.000000000',\n",
       "       '1942-01-01T00:00:00.000000000', '1927-01-01T00:00:00.000000000',\n",
       "       '1977-01-01T00:00:00.000000000', '1900-01-01T00:00:00.000000000',\n",
       "       '1979-01-01T00:00:00.000000000', '1994-01-01T00:00:00.000000000',\n",
       "       '1916-01-01T00:00:00.000000000', '1921-01-01T00:00:00.000000000',\n",
       "       '1969-01-01T00:00:00.000000000', '1947-01-01T00:00:00.000000000',\n",
       "       '1968-01-01T00:00:00.000000000', '1985-01-01T00:00:00.000000000',\n",
       "       '1941-01-01T00:00:00.000000000', '1915-01-01T00:00:00.000000000',\n",
       "       '1909-01-01T00:00:00.000000000', '1948-01-01T00:00:00.000000000',\n",
       "       '2005-01-01T00:00:00.000000000', '1929-01-01T00:00:00.000000000',\n",
       "       '1981-01-01T00:00:00.000000000', '1930-01-01T00:00:00.000000000',\n",
       "       '1904-01-01T00:00:00.000000000', '1996-01-01T00:00:00.000000000',\n",
       "       '2000-01-01T00:00:00.000000000', '1984-01-01T00:00:00.000000000',\n",
       "       '2014-01-01T00:00:00.000000000', '1922-01-01T00:00:00.000000000',\n",
       "       '1959-01-01T00:00:00.000000000', '1966-01-01T00:00:00.000000000',\n",
       "       '1953-01-01T00:00:00.000000000', '1950-01-01T00:00:00.000000000',\n",
       "       '2008-01-01T00:00:00.000000000', '1991-01-01T00:00:00.000000000',\n",
       "       '1954-01-01T00:00:00.000000000', '1973-01-01T00:00:00.000000000',\n",
       "       '1925-01-01T00:00:00.000000000', '1989-01-01T00:00:00.000000000',\n",
       "       '1972-01-01T00:00:00.000000000', '1986-01-01T00:00:00.000000000',\n",
       "       '1956-01-01T00:00:00.000000000', '2002-01-01T00:00:00.000000000',\n",
       "       '1992-01-01T00:00:00.000000000', '1964-01-01T00:00:00.000000000',\n",
       "       '1952-01-01T00:00:00.000000000', '1961-01-01T00:00:00.000000000',\n",
       "       '2006-01-01T00:00:00.000000000', '1988-01-01T00:00:00.000000000',\n",
       "       '1962-01-01T00:00:00.000000000', '1939-01-01T00:00:00.000000000',\n",
       "       '1946-01-01T00:00:00.000000000', '1967-01-01T00:00:00.000000000',\n",
       "       '1975-01-01T00:00:00.000000000', '1980-01-01T00:00:00.000000000',\n",
       "       '1910-01-01T00:00:00.000000000', '1983-01-01T00:00:00.000000000',\n",
       "       '1978-01-01T00:00:00.000000000', '1905-01-01T00:00:00.000000000',\n",
       "       '1971-01-01T00:00:00.000000000', '2010-01-01T00:00:00.000000000',\n",
       "       '1945-01-01T00:00:00.000000000', '1924-01-01T00:00:00.000000000',\n",
       "       '1990-01-01T00:00:00.000000000', '1914-01-01T00:00:00.000000000',\n",
       "       '1926-01-01T00:00:00.000000000', '2004-01-01T00:00:00.000000000',\n",
       "       '1923-01-01T00:00:00.000000000', '2007-01-01T00:00:00.000000000',\n",
       "       '1976-01-01T00:00:00.000000000', '1949-01-01T00:00:00.000000000',\n",
       "       '1999-01-01T00:00:00.000000000', '1901-01-01T00:00:00.000000000',\n",
       "       '1993-01-01T00:00:00.000000000', '1920-01-01T00:00:00.000000000',\n",
       "       '1997-01-01T00:00:00.000000000', '1943-01-01T00:00:00.000000000',\n",
       "       '1957-01-01T00:00:00.000000000', '1940-01-01T00:00:00.000000000',\n",
       "       '1918-01-01T00:00:00.000000000', '1928-01-01T00:00:00.000000000',\n",
       "       '1974-01-01T00:00:00.000000000', '1911-01-01T00:00:00.000000000',\n",
       "       '1936-01-01T00:00:00.000000000', '1937-01-01T00:00:00.000000000',\n",
       "       '1982-01-01T00:00:00.000000000', '1908-01-01T00:00:00.000000000',\n",
       "       '1931-01-01T00:00:00.000000000', '1998-01-01T00:00:00.000000000',\n",
       "       '1913-01-01T00:00:00.000000000', '2013-01-01T00:00:00.000000000',\n",
       "       '1907-01-01T00:00:00.000000000', '1958-01-01T00:00:00.000000000',\n",
       "       '2012-01-01T00:00:00.000000000', '1912-01-01T00:00:00.000000000',\n",
       "       '2011-01-01T00:00:00.000000000', '1917-01-01T00:00:00.000000000',\n",
       "       '1932-01-01T00:00:00.000000000', '1944-01-01T00:00:00.000000000',\n",
       "       '1902-01-01T00:00:00.000000000', '2009-01-01T00:00:00.000000000',\n",
       "       '1903-01-01T00:00:00.000000000', '1970-01-01T00:00:00.000000000',\n",
       "       '2015-01-01T00:00:00.000000000', '1934-01-01T00:00:00.000000000',\n",
       "       '1938-01-01T00:00:00.000000000', '1919-01-01T00:00:00.000000000',\n",
       "       '1906-01-01T00:00:00.000000000', '1935-01-01T00:00:00.000000000'],\n",
       "      dtype='datetime64[ns]')"
      ]
     },
     "execution_count": 20,
     "metadata": {},
     "output_type": "execute_result"
    }
   ],
   "source": [
    "df1['yr_built'].unique()"
   ]
  },
  {
   "cell_type": "code",
   "execution_count": 21,
   "id": "c8654dab",
   "metadata": {
    "ExecuteTime": {
     "end_time": "2022-02-23T00:47:51.922963Z",
     "start_time": "2022-02-23T00:47:51.878825Z"
    }
   },
   "outputs": [
    {
     "data": {
      "text/plain": [
       "array([   0, 1991, 2002, 2010, 1999, 1992, 2013, 1994, 1978, 2005, 2008,\n",
       "       2003, 1984, 1954, 2014, 2011, 1974, 1983, 1945, 1990, 1988, 1957,\n",
       "       1977, 1981, 1995, 2000, 1998, 1970, 1989, 2004, 1986, 2009, 2007,\n",
       "       1987, 1973, 2006, 1985, 2001, 1980, 1971, 1979, 1997, 1950, 1969,\n",
       "       1948, 2015, 1968, 2012, 1963, 1951, 1993, 1962, 1996, 1972, 1953,\n",
       "       1955, 1982, 1956, 1940, 1976, 1946, 1975, 1958, 1964, 1959, 1960,\n",
       "       1967, 1965, 1934, 1944])"
      ]
     },
     "execution_count": 21,
     "metadata": {},
     "output_type": "execute_result"
    }
   ],
   "source": [
    "df1['yr_renovated'].unique()"
   ]
  },
  {
   "cell_type": "code",
   "execution_count": 22,
   "id": "a8edc3b6",
   "metadata": {
    "ExecuteTime": {
     "end_time": "2022-02-23T00:48:07.794288Z",
     "start_time": "2022-02-23T00:47:51.939974Z"
    }
   },
   "outputs": [],
   "source": [
    "df1['yr_renovated'] = df1['yr_renovated'].apply(lambda x: pd.to_datetime('1900', format='%Y') \n",
    "                          if x==0 \n",
    "                          else pd.to_datetime(x, format='%Y'))"
   ]
  },
  {
   "cell_type": "code",
   "execution_count": 23,
   "id": "20c37fe7",
   "metadata": {
    "ExecuteTime": {
     "end_time": "2022-02-23T00:48:07.841435Z",
     "start_time": "2022-02-23T00:48:07.803734Z"
    }
   },
   "outputs": [
    {
     "data": {
      "text/plain": [
       "array(['1900-01-01T00:00:00.000000000', '1991-01-01T00:00:00.000000000',\n",
       "       '2002-01-01T00:00:00.000000000', '2010-01-01T00:00:00.000000000',\n",
       "       '1999-01-01T00:00:00.000000000', '1992-01-01T00:00:00.000000000',\n",
       "       '2013-01-01T00:00:00.000000000', '1994-01-01T00:00:00.000000000',\n",
       "       '1978-01-01T00:00:00.000000000', '2005-01-01T00:00:00.000000000',\n",
       "       '2008-01-01T00:00:00.000000000', '2003-01-01T00:00:00.000000000',\n",
       "       '1984-01-01T00:00:00.000000000', '1954-01-01T00:00:00.000000000',\n",
       "       '2014-01-01T00:00:00.000000000', '2011-01-01T00:00:00.000000000',\n",
       "       '1974-01-01T00:00:00.000000000', '1983-01-01T00:00:00.000000000',\n",
       "       '1945-01-01T00:00:00.000000000', '1990-01-01T00:00:00.000000000',\n",
       "       '1988-01-01T00:00:00.000000000', '1957-01-01T00:00:00.000000000',\n",
       "       '1977-01-01T00:00:00.000000000', '1981-01-01T00:00:00.000000000',\n",
       "       '1995-01-01T00:00:00.000000000', '2000-01-01T00:00:00.000000000',\n",
       "       '1998-01-01T00:00:00.000000000', '1970-01-01T00:00:00.000000000',\n",
       "       '1989-01-01T00:00:00.000000000', '2004-01-01T00:00:00.000000000',\n",
       "       '1986-01-01T00:00:00.000000000', '2009-01-01T00:00:00.000000000',\n",
       "       '2007-01-01T00:00:00.000000000', '1987-01-01T00:00:00.000000000',\n",
       "       '1973-01-01T00:00:00.000000000', '2006-01-01T00:00:00.000000000',\n",
       "       '1985-01-01T00:00:00.000000000', '2001-01-01T00:00:00.000000000',\n",
       "       '1980-01-01T00:00:00.000000000', '1971-01-01T00:00:00.000000000',\n",
       "       '1979-01-01T00:00:00.000000000', '1997-01-01T00:00:00.000000000',\n",
       "       '1950-01-01T00:00:00.000000000', '1969-01-01T00:00:00.000000000',\n",
       "       '1948-01-01T00:00:00.000000000', '2015-01-01T00:00:00.000000000',\n",
       "       '1968-01-01T00:00:00.000000000', '2012-01-01T00:00:00.000000000',\n",
       "       '1963-01-01T00:00:00.000000000', '1951-01-01T00:00:00.000000000',\n",
       "       '1993-01-01T00:00:00.000000000', '1962-01-01T00:00:00.000000000',\n",
       "       '1996-01-01T00:00:00.000000000', '1972-01-01T00:00:00.000000000',\n",
       "       '1953-01-01T00:00:00.000000000', '1955-01-01T00:00:00.000000000',\n",
       "       '1982-01-01T00:00:00.000000000', '1956-01-01T00:00:00.000000000',\n",
       "       '1940-01-01T00:00:00.000000000', '1976-01-01T00:00:00.000000000',\n",
       "       '1946-01-01T00:00:00.000000000', '1975-01-01T00:00:00.000000000',\n",
       "       '1958-01-01T00:00:00.000000000', '1964-01-01T00:00:00.000000000',\n",
       "       '1959-01-01T00:00:00.000000000', '1960-01-01T00:00:00.000000000',\n",
       "       '1967-01-01T00:00:00.000000000', '1965-01-01T00:00:00.000000000',\n",
       "       '1934-01-01T00:00:00.000000000', '1944-01-01T00:00:00.000000000'],\n",
       "      dtype='datetime64[ns]')"
      ]
     },
     "execution_count": 23,
     "metadata": {},
     "output_type": "execute_result"
    }
   ],
   "source": [
    "df1['yr_renovated'].unique()"
   ]
  },
  {
   "cell_type": "markdown",
   "id": "869c385c",
   "metadata": {},
   "source": [
    "## 1.5 Descriptive Statistics"
   ]
  },
  {
   "cell_type": "code",
   "execution_count": 24,
   "id": "bf292084",
   "metadata": {
    "ExecuteTime": {
     "end_time": "2022-02-23T00:48:07.884607Z",
     "start_time": "2022-02-23T00:48:07.854551Z"
    }
   },
   "outputs": [],
   "source": [
    "num_attributes = df1.select_dtypes(include=['int64', 'float64'])"
   ]
  },
  {
   "cell_type": "markdown",
   "id": "5cc9a241",
   "metadata": {},
   "source": [
    "### 1.5.1 Numerical Attributes"
   ]
  },
  {
   "cell_type": "code",
   "execution_count": 25,
   "id": "03e3dc67",
   "metadata": {
    "ExecuteTime": {
     "end_time": "2022-02-23T00:48:08.382551Z",
     "start_time": "2022-02-23T00:48:07.897665Z"
    }
   },
   "outputs": [
    {
     "data": {
      "text/html": [
       "<div>\n",
       "<style scoped>\n",
       "    .dataframe tbody tr th:only-of-type {\n",
       "        vertical-align: middle;\n",
       "    }\n",
       "\n",
       "    .dataframe tbody tr th {\n",
       "        vertical-align: top;\n",
       "    }\n",
       "\n",
       "    .dataframe thead th {\n",
       "        text-align: right;\n",
       "    }\n",
       "</style>\n",
       "<table border=\"1\" class=\"dataframe\">\n",
       "  <thead>\n",
       "    <tr style=\"text-align: right;\">\n",
       "      <th></th>\n",
       "      <th>attributes</th>\n",
       "      <th>min</th>\n",
       "      <th>max</th>\n",
       "      <th>range</th>\n",
       "      <th>mean</th>\n",
       "      <th>median</th>\n",
       "      <th>std</th>\n",
       "      <th>skew</th>\n",
       "      <th>kurtosis</th>\n",
       "    </tr>\n",
       "  </thead>\n",
       "  <tbody>\n",
       "    <tr>\n",
       "      <th>0</th>\n",
       "      <td>id</td>\n",
       "      <td>1000102.00</td>\n",
       "      <td>9900000190.00</td>\n",
       "      <td>9899000088.00</td>\n",
       "      <td>4580765328.18</td>\n",
       "      <td>3904921185.00</td>\n",
       "      <td>2876522535.73</td>\n",
       "      <td>0.24</td>\n",
       "      <td>-1.26</td>\n",
       "    </tr>\n",
       "    <tr>\n",
       "      <th>1</th>\n",
       "      <td>price</td>\n",
       "      <td>75000.00</td>\n",
       "      <td>7700000.00</td>\n",
       "      <td>7625000.00</td>\n",
       "      <td>540529.29</td>\n",
       "      <td>450000.00</td>\n",
       "      <td>367680.72</td>\n",
       "      <td>4.03</td>\n",
       "      <td>34.62</td>\n",
       "    </tr>\n",
       "    <tr>\n",
       "      <th>2</th>\n",
       "      <td>bedrooms</td>\n",
       "      <td>0.00</td>\n",
       "      <td>33.00</td>\n",
       "      <td>33.00</td>\n",
       "      <td>3.37</td>\n",
       "      <td>3.00</td>\n",
       "      <td>0.93</td>\n",
       "      <td>1.99</td>\n",
       "      <td>49.64</td>\n",
       "    </tr>\n",
       "    <tr>\n",
       "      <th>3</th>\n",
       "      <td>bathrooms</td>\n",
       "      <td>0.00</td>\n",
       "      <td>8.00</td>\n",
       "      <td>8.00</td>\n",
       "      <td>2.12</td>\n",
       "      <td>2.25</td>\n",
       "      <td>0.77</td>\n",
       "      <td>0.51</td>\n",
       "      <td>1.29</td>\n",
       "    </tr>\n",
       "    <tr>\n",
       "      <th>4</th>\n",
       "      <td>sqft_living</td>\n",
       "      <td>290.00</td>\n",
       "      <td>13540.00</td>\n",
       "      <td>13250.00</td>\n",
       "      <td>2082.70</td>\n",
       "      <td>1920.00</td>\n",
       "      <td>919.13</td>\n",
       "      <td>1.47</td>\n",
       "      <td>5.25</td>\n",
       "    </tr>\n",
       "    <tr>\n",
       "      <th>5</th>\n",
       "      <td>sqft_lot</td>\n",
       "      <td>520.00</td>\n",
       "      <td>1651359.00</td>\n",
       "      <td>1650839.00</td>\n",
       "      <td>15135.64</td>\n",
       "      <td>7614.00</td>\n",
       "      <td>41537.65</td>\n",
       "      <td>13.04</td>\n",
       "      <td>284.08</td>\n",
       "    </tr>\n",
       "    <tr>\n",
       "      <th>6</th>\n",
       "      <td>floors</td>\n",
       "      <td>1.00</td>\n",
       "      <td>3.50</td>\n",
       "      <td>2.50</td>\n",
       "      <td>1.50</td>\n",
       "      <td>1.50</td>\n",
       "      <td>0.54</td>\n",
       "      <td>0.61</td>\n",
       "      <td>-0.49</td>\n",
       "    </tr>\n",
       "    <tr>\n",
       "      <th>7</th>\n",
       "      <td>waterfront</td>\n",
       "      <td>0.00</td>\n",
       "      <td>1.00</td>\n",
       "      <td>1.00</td>\n",
       "      <td>0.01</td>\n",
       "      <td>0.00</td>\n",
       "      <td>0.09</td>\n",
       "      <td>11.34</td>\n",
       "      <td>126.55</td>\n",
       "    </tr>\n",
       "    <tr>\n",
       "      <th>8</th>\n",
       "      <td>view</td>\n",
       "      <td>0.00</td>\n",
       "      <td>4.00</td>\n",
       "      <td>4.00</td>\n",
       "      <td>0.24</td>\n",
       "      <td>0.00</td>\n",
       "      <td>0.77</td>\n",
       "      <td>3.39</td>\n",
       "      <td>10.83</td>\n",
       "    </tr>\n",
       "    <tr>\n",
       "      <th>9</th>\n",
       "      <td>condition</td>\n",
       "      <td>1.00</td>\n",
       "      <td>5.00</td>\n",
       "      <td>4.00</td>\n",
       "      <td>3.41</td>\n",
       "      <td>3.00</td>\n",
       "      <td>0.65</td>\n",
       "      <td>1.04</td>\n",
       "      <td>0.52</td>\n",
       "    </tr>\n",
       "    <tr>\n",
       "      <th>10</th>\n",
       "      <td>grade</td>\n",
       "      <td>1.00</td>\n",
       "      <td>13.00</td>\n",
       "      <td>12.00</td>\n",
       "      <td>7.66</td>\n",
       "      <td>7.00</td>\n",
       "      <td>1.17</td>\n",
       "      <td>0.77</td>\n",
       "      <td>1.19</td>\n",
       "    </tr>\n",
       "    <tr>\n",
       "      <th>11</th>\n",
       "      <td>sqft_above</td>\n",
       "      <td>290.00</td>\n",
       "      <td>9410.00</td>\n",
       "      <td>9120.00</td>\n",
       "      <td>1790.96</td>\n",
       "      <td>1560.00</td>\n",
       "      <td>829.01</td>\n",
       "      <td>1.44</td>\n",
       "      <td>3.40</td>\n",
       "    </tr>\n",
       "    <tr>\n",
       "      <th>12</th>\n",
       "      <td>sqft_basement</td>\n",
       "      <td>0.00</td>\n",
       "      <td>4820.00</td>\n",
       "      <td>4820.00</td>\n",
       "      <td>291.74</td>\n",
       "      <td>0.00</td>\n",
       "      <td>442.77</td>\n",
       "      <td>1.58</td>\n",
       "      <td>2.71</td>\n",
       "    </tr>\n",
       "    <tr>\n",
       "      <th>13</th>\n",
       "      <td>zipcode</td>\n",
       "      <td>98001.00</td>\n",
       "      <td>98199.00</td>\n",
       "      <td>198.00</td>\n",
       "      <td>98077.86</td>\n",
       "      <td>98065.00</td>\n",
       "      <td>53.47</td>\n",
       "      <td>0.41</td>\n",
       "      <td>-0.85</td>\n",
       "    </tr>\n",
       "    <tr>\n",
       "      <th>14</th>\n",
       "      <td>lat</td>\n",
       "      <td>47.16</td>\n",
       "      <td>47.78</td>\n",
       "      <td>0.62</td>\n",
       "      <td>47.56</td>\n",
       "      <td>47.57</td>\n",
       "      <td>0.14</td>\n",
       "      <td>-0.49</td>\n",
       "      <td>-0.67</td>\n",
       "    </tr>\n",
       "    <tr>\n",
       "      <th>15</th>\n",
       "      <td>long</td>\n",
       "      <td>-122.52</td>\n",
       "      <td>-121.31</td>\n",
       "      <td>1.20</td>\n",
       "      <td>-122.21</td>\n",
       "      <td>-122.23</td>\n",
       "      <td>0.14</td>\n",
       "      <td>0.88</td>\n",
       "      <td>1.05</td>\n",
       "    </tr>\n",
       "    <tr>\n",
       "      <th>16</th>\n",
       "      <td>sqft_living15</td>\n",
       "      <td>399.00</td>\n",
       "      <td>6210.00</td>\n",
       "      <td>5811.00</td>\n",
       "      <td>1988.31</td>\n",
       "      <td>1840.00</td>\n",
       "      <td>685.68</td>\n",
       "      <td>1.11</td>\n",
       "      <td>1.59</td>\n",
       "    </tr>\n",
       "    <tr>\n",
       "      <th>17</th>\n",
       "      <td>sqft_lot15</td>\n",
       "      <td>651.00</td>\n",
       "      <td>871200.00</td>\n",
       "      <td>870549.00</td>\n",
       "      <td>12785.96</td>\n",
       "      <td>7620.00</td>\n",
       "      <td>27374.83</td>\n",
       "      <td>9.50</td>\n",
       "      <td>150.32</td>\n",
       "    </tr>\n",
       "  </tbody>\n",
       "</table>\n",
       "</div>"
      ],
      "text/plain": [
       "       attributes        min           max         range          mean  \\\n",
       "0              id 1000102.00 9900000190.00 9899000088.00 4580765328.18   \n",
       "1           price   75000.00    7700000.00    7625000.00     540529.29   \n",
       "2        bedrooms       0.00         33.00         33.00          3.37   \n",
       "3       bathrooms       0.00          8.00          8.00          2.12   \n",
       "4     sqft_living     290.00      13540.00      13250.00       2082.70   \n",
       "5        sqft_lot     520.00    1651359.00    1650839.00      15135.64   \n",
       "6          floors       1.00          3.50          2.50          1.50   \n",
       "7      waterfront       0.00          1.00          1.00          0.01   \n",
       "8            view       0.00          4.00          4.00          0.24   \n",
       "9       condition       1.00          5.00          4.00          3.41   \n",
       "10          grade       1.00         13.00         12.00          7.66   \n",
       "11     sqft_above     290.00       9410.00       9120.00       1790.96   \n",
       "12  sqft_basement       0.00       4820.00       4820.00        291.74   \n",
       "13        zipcode   98001.00      98199.00        198.00      98077.86   \n",
       "14            lat      47.16         47.78          0.62         47.56   \n",
       "15           long    -122.52       -121.31          1.20       -122.21   \n",
       "16  sqft_living15     399.00       6210.00       5811.00       1988.31   \n",
       "17     sqft_lot15     651.00     871200.00     870549.00      12785.96   \n",
       "\n",
       "          median           std  skew  kurtosis  \n",
       "0  3904921185.00 2876522535.73  0.24     -1.26  \n",
       "1      450000.00     367680.72  4.03     34.62  \n",
       "2           3.00          0.93  1.99     49.64  \n",
       "3           2.25          0.77  0.51      1.29  \n",
       "4        1920.00        919.13  1.47      5.25  \n",
       "5        7614.00      41537.65 13.04    284.08  \n",
       "6           1.50          0.54  0.61     -0.49  \n",
       "7           0.00          0.09 11.34    126.55  \n",
       "8           0.00          0.77  3.39     10.83  \n",
       "9           3.00          0.65  1.04      0.52  \n",
       "10          7.00          1.17  0.77      1.19  \n",
       "11       1560.00        829.01  1.44      3.40  \n",
       "12          0.00        442.77  1.58      2.71  \n",
       "13      98065.00         53.47  0.41     -0.85  \n",
       "14         47.57          0.14 -0.49     -0.67  \n",
       "15       -122.23          0.14  0.88      1.05  \n",
       "16       1840.00        685.68  1.11      1.59  \n",
       "17       7620.00      27374.83  9.50    150.32  "
      ]
     },
     "execution_count": 25,
     "metadata": {},
     "output_type": "execute_result"
    }
   ],
   "source": [
    "# Central Tendency - mean, median\n",
    "mean_   = pd.DataFrame(num_attributes.apply(np.mean,   axis=0)).T\n",
    "median_ = pd.DataFrame(num_attributes.apply(np.median, axis=0)).T\n",
    "\n",
    "# Dispersion - std, min, max, range, skew, kurtosis\n",
    "rang  = pd.DataFrame(num_attributes.apply(lambda x: x.max()-x.min())).T\n",
    "skew  = pd.DataFrame(num_attributes.apply(lambda x: x.skew())).T\n",
    "kurto = pd.DataFrame(num_attributes.apply(lambda x: x.kurtosis())).T\n",
    "std   = pd.DataFrame(num_attributes.apply(np.std, axis=0)).T\n",
    "min_  = pd.DataFrame(num_attributes.apply(np.min, axis=0)).T\n",
    "max_  = pd.DataFrame(num_attributes.apply(np.max, axis=0)).T\n",
    "\n",
    "df_num_att = pd.concat([min_, max_, rang, mean_, median_, std, skew, kurto]).T.reset_index()\n",
    "df_num_att.columns = ['attributes', 'min', 'max', 'range', 'mean', 'median', 'std', 'skew', 'kurtosis']\n",
    "df_num_att"
   ]
  },
  {
   "cell_type": "markdown",
   "id": "324fb0bf",
   "metadata": {
    "heading_collapsed": true
   },
   "source": [
    "# 2.0 FEATURE ENGINEERING"
   ]
  },
  {
   "cell_type": "code",
   "execution_count": 26,
   "id": "73bbf4dc",
   "metadata": {
    "ExecuteTime": {
     "end_time": "2022-02-23T00:48:08.431682Z",
     "start_time": "2022-02-23T00:48:08.398253Z"
    },
    "hidden": true
   },
   "outputs": [],
   "source": [
    "df2 = df1.copy()"
   ]
  },
  {
   "cell_type": "markdown",
   "id": "5806ce5d",
   "metadata": {
    "hidden": true
   },
   "source": [
    "## 2.1 Mental Map Hypothesis"
   ]
  },
  {
   "cell_type": "code",
   "execution_count": 27,
   "id": "cf2ff8b6",
   "metadata": {
    "ExecuteTime": {
     "end_time": "2022-02-23T00:48:11.386994Z",
     "start_time": "2022-02-23T00:48:08.445342Z"
    },
    "hidden": true
   },
   "outputs": [
    {
     "ename": "FileNotFoundError",
     "evalue": "No such file or directory: '/home/work/Documents/repos/python_zero_ao_ds/reports/figures/mindmaphyphotesis.png'",
     "output_type": "error",
     "traceback": [
      "\u001b[0;31m---------------------------------------------------------------------------\u001b[0m",
      "\u001b[0;31mTypeError\u001b[0m                                 Traceback (most recent call last)",
      "File \u001b[0;32m~/.pyenv/versions/3.8.0/envs/pythonzeroaods/lib/python3.8/site-packages/IPython/core/display.py:1027\u001b[0m, in \u001b[0;36mImage._data_and_metadata\u001b[0;34m(self, always_both)\u001b[0m\n\u001b[1;32m   1026\u001b[0m \u001b[38;5;28;01mtry\u001b[39;00m:\n\u001b[0;32m-> 1027\u001b[0m     b64_data \u001b[38;5;241m=\u001b[39m \u001b[43mb2a_base64\u001b[49m\u001b[43m(\u001b[49m\u001b[38;5;28;43mself\u001b[39;49m\u001b[38;5;241;43m.\u001b[39;49m\u001b[43mdata\u001b[49m\u001b[43m)\u001b[49m\u001b[38;5;241m.\u001b[39mdecode(\u001b[38;5;124m'\u001b[39m\u001b[38;5;124mascii\u001b[39m\u001b[38;5;124m'\u001b[39m)\n\u001b[1;32m   1028\u001b[0m \u001b[38;5;28;01mexcept\u001b[39;00m \u001b[38;5;167;01mTypeError\u001b[39;00m \u001b[38;5;28;01mas\u001b[39;00m e:\n",
      "\u001b[0;31mTypeError\u001b[0m: a bytes-like object is required, not 'str'",
      "\nThe above exception was the direct cause of the following exception:\n",
      "\u001b[0;31mFileNotFoundError\u001b[0m                         Traceback (most recent call last)",
      "File \u001b[0;32m~/.pyenv/versions/3.8.0/envs/pythonzeroaods/lib/python3.8/site-packages/IPython/core/formatters.py:973\u001b[0m, in \u001b[0;36mMimeBundleFormatter.__call__\u001b[0;34m(self, obj, include, exclude)\u001b[0m\n\u001b[1;32m    970\u001b[0m     method \u001b[38;5;241m=\u001b[39m get_real_method(obj, \u001b[38;5;28mself\u001b[39m\u001b[38;5;241m.\u001b[39mprint_method)\n\u001b[1;32m    972\u001b[0m     \u001b[38;5;28;01mif\u001b[39;00m method \u001b[38;5;129;01mis\u001b[39;00m \u001b[38;5;129;01mnot\u001b[39;00m \u001b[38;5;28;01mNone\u001b[39;00m:\n\u001b[0;32m--> 973\u001b[0m         \u001b[38;5;28;01mreturn\u001b[39;00m \u001b[43mmethod\u001b[49m\u001b[43m(\u001b[49m\u001b[43minclude\u001b[49m\u001b[38;5;241;43m=\u001b[39;49m\u001b[43minclude\u001b[49m\u001b[43m,\u001b[49m\u001b[43m \u001b[49m\u001b[43mexclude\u001b[49m\u001b[38;5;241;43m=\u001b[39;49m\u001b[43mexclude\u001b[49m\u001b[43m)\u001b[49m\n\u001b[1;32m    974\u001b[0m     \u001b[38;5;28;01mreturn\u001b[39;00m \u001b[38;5;28;01mNone\u001b[39;00m\n\u001b[1;32m    975\u001b[0m \u001b[38;5;28;01melse\u001b[39;00m:\n",
      "File \u001b[0;32m~/.pyenv/versions/3.8.0/envs/pythonzeroaods/lib/python3.8/site-packages/IPython/core/display.py:1017\u001b[0m, in \u001b[0;36mImage._repr_mimebundle_\u001b[0;34m(self, include, exclude)\u001b[0m\n\u001b[1;32m   1015\u001b[0m \u001b[38;5;28;01mif\u001b[39;00m \u001b[38;5;28mself\u001b[39m\u001b[38;5;241m.\u001b[39membed:\n\u001b[1;32m   1016\u001b[0m     mimetype \u001b[38;5;241m=\u001b[39m \u001b[38;5;28mself\u001b[39m\u001b[38;5;241m.\u001b[39m_mimetype\n\u001b[0;32m-> 1017\u001b[0m     data, metadata \u001b[38;5;241m=\u001b[39m \u001b[38;5;28;43mself\u001b[39;49m\u001b[38;5;241;43m.\u001b[39;49m\u001b[43m_data_and_metadata\u001b[49m\u001b[43m(\u001b[49m\u001b[43malways_both\u001b[49m\u001b[38;5;241;43m=\u001b[39;49m\u001b[38;5;28;43;01mTrue\u001b[39;49;00m\u001b[43m)\u001b[49m\n\u001b[1;32m   1018\u001b[0m     \u001b[38;5;28;01mif\u001b[39;00m metadata:\n\u001b[1;32m   1019\u001b[0m         metadata \u001b[38;5;241m=\u001b[39m {mimetype: metadata}\n",
      "File \u001b[0;32m~/.pyenv/versions/3.8.0/envs/pythonzeroaods/lib/python3.8/site-packages/IPython/core/display.py:1029\u001b[0m, in \u001b[0;36mImage._data_and_metadata\u001b[0;34m(self, always_both)\u001b[0m\n\u001b[1;32m   1027\u001b[0m     b64_data \u001b[38;5;241m=\u001b[39m b2a_base64(\u001b[38;5;28mself\u001b[39m\u001b[38;5;241m.\u001b[39mdata)\u001b[38;5;241m.\u001b[39mdecode(\u001b[38;5;124m'\u001b[39m\u001b[38;5;124mascii\u001b[39m\u001b[38;5;124m'\u001b[39m)\n\u001b[1;32m   1028\u001b[0m \u001b[38;5;28;01mexcept\u001b[39;00m \u001b[38;5;167;01mTypeError\u001b[39;00m \u001b[38;5;28;01mas\u001b[39;00m e:\n\u001b[0;32m-> 1029\u001b[0m     \u001b[38;5;28;01mraise\u001b[39;00m \u001b[38;5;167;01mFileNotFoundError\u001b[39;00m(\n\u001b[1;32m   1030\u001b[0m         \u001b[38;5;124m\"\u001b[39m\u001b[38;5;124mNo such file or directory: \u001b[39m\u001b[38;5;124m'\u001b[39m\u001b[38;5;132;01m%s\u001b[39;00m\u001b[38;5;124m'\u001b[39m\u001b[38;5;124m\"\u001b[39m \u001b[38;5;241m%\u001b[39m (\u001b[38;5;28mself\u001b[39m\u001b[38;5;241m.\u001b[39mdata)) \u001b[38;5;28;01mfrom\u001b[39;00m \u001b[38;5;21;01me\u001b[39;00m\n\u001b[1;32m   1031\u001b[0m md \u001b[38;5;241m=\u001b[39m {}\n\u001b[1;32m   1032\u001b[0m \u001b[38;5;28;01mif\u001b[39;00m \u001b[38;5;28mself\u001b[39m\u001b[38;5;241m.\u001b[39mmetadata:\n",
      "\u001b[0;31mFileNotFoundError\u001b[0m: No such file or directory: '/home/work/Documents/repos/python_zero_ao_ds/reports/figures/mindmaphyphotesis.png'"
     ]
    },
    {
     "ename": "FileNotFoundError",
     "evalue": "No such file or directory: '/home/work/Documents/repos/python_zero_ao_ds/reports/figures/mindmaphyphotesis.png'",
     "output_type": "error",
     "traceback": [
      "\u001b[0;31m---------------------------------------------------------------------------\u001b[0m",
      "\u001b[0;31mTypeError\u001b[0m                                 Traceback (most recent call last)",
      "File \u001b[0;32m~/.pyenv/versions/3.8.0/envs/pythonzeroaods/lib/python3.8/site-packages/IPython/core/display.py:1027\u001b[0m, in \u001b[0;36mImage._data_and_metadata\u001b[0;34m(self, always_both)\u001b[0m\n\u001b[1;32m   1026\u001b[0m \u001b[38;5;28;01mtry\u001b[39;00m:\n\u001b[0;32m-> 1027\u001b[0m     b64_data \u001b[38;5;241m=\u001b[39m \u001b[43mb2a_base64\u001b[49m\u001b[43m(\u001b[49m\u001b[38;5;28;43mself\u001b[39;49m\u001b[38;5;241;43m.\u001b[39;49m\u001b[43mdata\u001b[49m\u001b[43m)\u001b[49m\u001b[38;5;241m.\u001b[39mdecode(\u001b[38;5;124m'\u001b[39m\u001b[38;5;124mascii\u001b[39m\u001b[38;5;124m'\u001b[39m)\n\u001b[1;32m   1028\u001b[0m \u001b[38;5;28;01mexcept\u001b[39;00m \u001b[38;5;167;01mTypeError\u001b[39;00m \u001b[38;5;28;01mas\u001b[39;00m e:\n",
      "\u001b[0;31mTypeError\u001b[0m: a bytes-like object is required, not 'str'",
      "\nThe above exception was the direct cause of the following exception:\n",
      "\u001b[0;31mFileNotFoundError\u001b[0m                         Traceback (most recent call last)",
      "File \u001b[0;32m~/.pyenv/versions/3.8.0/envs/pythonzeroaods/lib/python3.8/site-packages/IPython/core/formatters.py:343\u001b[0m, in \u001b[0;36mBaseFormatter.__call__\u001b[0;34m(self, obj)\u001b[0m\n\u001b[1;32m    341\u001b[0m     method \u001b[38;5;241m=\u001b[39m get_real_method(obj, \u001b[38;5;28mself\u001b[39m\u001b[38;5;241m.\u001b[39mprint_method)\n\u001b[1;32m    342\u001b[0m     \u001b[38;5;28;01mif\u001b[39;00m method \u001b[38;5;129;01mis\u001b[39;00m \u001b[38;5;129;01mnot\u001b[39;00m \u001b[38;5;28;01mNone\u001b[39;00m:\n\u001b[0;32m--> 343\u001b[0m         \u001b[38;5;28;01mreturn\u001b[39;00m \u001b[43mmethod\u001b[49m\u001b[43m(\u001b[49m\u001b[43m)\u001b[49m\n\u001b[1;32m    344\u001b[0m     \u001b[38;5;28;01mreturn\u001b[39;00m \u001b[38;5;28;01mNone\u001b[39;00m\n\u001b[1;32m    345\u001b[0m \u001b[38;5;28;01melse\u001b[39;00m:\n",
      "File \u001b[0;32m~/.pyenv/versions/3.8.0/envs/pythonzeroaods/lib/python3.8/site-packages/IPython/core/display.py:1049\u001b[0m, in \u001b[0;36mImage._repr_png_\u001b[0;34m(self)\u001b[0m\n\u001b[1;32m   1047\u001b[0m \u001b[38;5;28;01mdef\u001b[39;00m \u001b[38;5;21m_repr_png_\u001b[39m(\u001b[38;5;28mself\u001b[39m):\n\u001b[1;32m   1048\u001b[0m     \u001b[38;5;28;01mif\u001b[39;00m \u001b[38;5;28mself\u001b[39m\u001b[38;5;241m.\u001b[39membed \u001b[38;5;129;01mand\u001b[39;00m \u001b[38;5;28mself\u001b[39m\u001b[38;5;241m.\u001b[39mformat \u001b[38;5;241m==\u001b[39m \u001b[38;5;28mself\u001b[39m\u001b[38;5;241m.\u001b[39m_FMT_PNG:\n\u001b[0;32m-> 1049\u001b[0m         \u001b[38;5;28;01mreturn\u001b[39;00m \u001b[38;5;28;43mself\u001b[39;49m\u001b[38;5;241;43m.\u001b[39;49m\u001b[43m_data_and_metadata\u001b[49m\u001b[43m(\u001b[49m\u001b[43m)\u001b[49m\n",
      "File \u001b[0;32m~/.pyenv/versions/3.8.0/envs/pythonzeroaods/lib/python3.8/site-packages/IPython/core/display.py:1029\u001b[0m, in \u001b[0;36mImage._data_and_metadata\u001b[0;34m(self, always_both)\u001b[0m\n\u001b[1;32m   1027\u001b[0m     b64_data \u001b[38;5;241m=\u001b[39m b2a_base64(\u001b[38;5;28mself\u001b[39m\u001b[38;5;241m.\u001b[39mdata)\u001b[38;5;241m.\u001b[39mdecode(\u001b[38;5;124m'\u001b[39m\u001b[38;5;124mascii\u001b[39m\u001b[38;5;124m'\u001b[39m)\n\u001b[1;32m   1028\u001b[0m \u001b[38;5;28;01mexcept\u001b[39;00m \u001b[38;5;167;01mTypeError\u001b[39;00m \u001b[38;5;28;01mas\u001b[39;00m e:\n\u001b[0;32m-> 1029\u001b[0m     \u001b[38;5;28;01mraise\u001b[39;00m \u001b[38;5;167;01mFileNotFoundError\u001b[39;00m(\n\u001b[1;32m   1030\u001b[0m         \u001b[38;5;124m\"\u001b[39m\u001b[38;5;124mNo such file or directory: \u001b[39m\u001b[38;5;124m'\u001b[39m\u001b[38;5;132;01m%s\u001b[39;00m\u001b[38;5;124m'\u001b[39m\u001b[38;5;124m\"\u001b[39m \u001b[38;5;241m%\u001b[39m (\u001b[38;5;28mself\u001b[39m\u001b[38;5;241m.\u001b[39mdata)) \u001b[38;5;28;01mfrom\u001b[39;00m \u001b[38;5;21;01me\u001b[39;00m\n\u001b[1;32m   1031\u001b[0m md \u001b[38;5;241m=\u001b[39m {}\n\u001b[1;32m   1032\u001b[0m \u001b[38;5;28;01mif\u001b[39;00m \u001b[38;5;28mself\u001b[39m\u001b[38;5;241m.\u001b[39mmetadata:\n",
      "\u001b[0;31mFileNotFoundError\u001b[0m: No such file or directory: '/home/work/Documents/repos/python_zero_ao_ds/reports/figures/mindmaphyphotesis.png'"
     ]
    },
    {
     "data": {
      "text/plain": [
       "<IPython.core.display.Image object>"
      ]
     },
     "execution_count": 27,
     "metadata": {},
     "output_type": "execute_result"
    }
   ],
   "source": [
    "Image(Path(\"/home/work/Documents/repos/python_zero_ao_ds/reports/figures/mindmaphyphotesis.png\"))"
   ]
  },
  {
   "cell_type": "markdown",
   "id": "ed9dc511",
   "metadata": {
    "hidden": true
   },
   "source": [
    "## 2.2 Hyphotesis Criation"
   ]
  },
  {
   "cell_type": "markdown",
   "id": "a1a68318",
   "metadata": {
    "hidden": true
   },
   "source": [
    "**H1:** Houses that have waterview, are 3 times more expansive, in average, than houses without waterview.\n",
    "\n",
    "**H2:** Houses with built year below 1955, are 50% cheaper, in average.\n",
    "\n",
    "**H3:** Houses with basement have sqf t lot that are 50% larger than the houses without basement.\n",
    "\n",
    "**H4:** The price evolution of houses YoY ( Year over Year ) is 10%.\n",
    "\n",
    "**H5:** Houses with 3 bathrooms has an growth MoM ( Month over Month ) of 15%.\n",
    "\n",
    "**H6:** Houses with 3 bedrooms has an growth MoM ( Month over Month ) of20%.\n",
    "\n",
    "**H7:** Houses built among decades of 40 and 70 are cheaper than all other houses built in other decades.\n",
    "\n",
    "**H8:** The prices increases accordingly to the newest year the house was renovated at 50% rate.\n",
    "\n",
    "**H9:** Houses with two floors are 30% more expensive than those with one.\n",
    "\n",
    "**H10:** Houses with at least two bathrooms are 10% more expensive than those with one."
   ]
  },
  {
   "cell_type": "markdown",
   "id": "da6e6b77",
   "metadata": {
    "hidden": true
   },
   "source": [
    "## 2.3 Feature Engineering"
   ]
  },
  {
   "cell_type": "code",
   "execution_count": 28,
   "id": "b75dc1a7",
   "metadata": {
    "ExecuteTime": {
     "end_time": "2022-02-23T00:48:11.576473Z",
     "start_time": "2022-02-23T00:48:11.406931Z"
    },
    "hidden": true
   },
   "outputs": [],
   "source": [
    "df2['year']  = df2['date'].dt.year\n",
    "df2['month'] = df2['date'].dt.month\n",
    "\n",
    "# separate the houses by avverage price and zipcode\n",
    "df = df2[['zipcode', 'price']].groupby('zipcode').median().reset_index()\n",
    "df.columns = ['zipcode', 'price_median']\n",
    "\n",
    "df2 = pd.merge(df2, df, on = 'zipcode', how = 'inner')"
   ]
  },
  {
   "cell_type": "markdown",
   "id": "85ceb2ac",
   "metadata": {
    "heading_collapsed": true
   },
   "source": [
    "# 3.0 DATA FILTERING"
   ]
  },
  {
   "cell_type": "code",
   "execution_count": 29,
   "id": "e745216b",
   "metadata": {
    "ExecuteTime": {
     "end_time": "2022-02-23T00:48:11.621300Z",
     "start_time": "2022-02-23T00:48:11.585267Z"
    },
    "hidden": true
   },
   "outputs": [],
   "source": [
    "df3 = df2.copy()"
   ]
  },
  {
   "cell_type": "code",
   "execution_count": 30,
   "id": "75fe2170",
   "metadata": {
    "ExecuteTime": {
     "end_time": "2022-02-23T00:48:11.656864Z",
     "start_time": "2022-02-23T00:48:11.631196Z"
    },
    "hidden": true
   },
   "outputs": [],
   "source": [
    "df3 = df3.drop(['sqft_living15', 'sqft_lot15'], axis = 1)"
   ]
  },
  {
   "cell_type": "code",
   "execution_count": 31,
   "id": "178bf2ae",
   "metadata": {
    "ExecuteTime": {
     "end_time": "2022-02-23T00:48:11.709350Z",
     "start_time": "2022-02-23T00:48:11.669496Z"
    },
    "hidden": true
   },
   "outputs": [
    {
     "data": {
      "text/plain": [
       "Index(['id', 'date', 'price', 'bedrooms', 'bathrooms', 'sqft_living',\n",
       "       'sqft_lot', 'floors', 'waterfront', 'view', 'condition', 'grade',\n",
       "       'sqft_above', 'sqft_basement', 'yr_built', 'yr_renovated', 'zipcode',\n",
       "       'lat', 'long', 'year', 'month', 'price_median'],\n",
       "      dtype='object')"
      ]
     },
     "execution_count": 31,
     "metadata": {},
     "output_type": "execute_result"
    }
   ],
   "source": [
    "df3.columns"
   ]
  },
  {
   "cell_type": "markdown",
   "id": "9ac5c603",
   "metadata": {},
   "source": [
    "# 4.0 EXPLORATORY DATA ANALYSIS"
   ]
  },
  {
   "cell_type": "code",
   "execution_count": 32,
   "id": "7909791c",
   "metadata": {
    "ExecuteTime": {
     "end_time": "2022-02-23T00:48:11.741925Z",
     "start_time": "2022-02-23T00:48:11.724557Z"
    }
   },
   "outputs": [],
   "source": [
    "df4 = df3.copy()"
   ]
  },
  {
   "cell_type": "code",
   "execution_count": 33,
   "id": "607d5bc6",
   "metadata": {
    "ExecuteTime": {
     "end_time": "2022-02-23T00:48:11.781959Z",
     "start_time": "2022-02-23T00:48:11.753702Z"
    }
   },
   "outputs": [],
   "source": [
    "num_attributes = df4.select_dtypes(include=['int64', 'float64'])"
   ]
  },
  {
   "cell_type": "markdown",
   "id": "f3519e66",
   "metadata": {},
   "source": [
    "## 4.1 Univariate Analysis"
   ]
  },
  {
   "cell_type": "markdown",
   "id": "39bd804e",
   "metadata": {},
   "source": [
    "### 4.1.1 Response Variable"
   ]
  },
  {
   "cell_type": "code",
   "execution_count": 34,
   "id": "eaf96842",
   "metadata": {
    "ExecuteTime": {
     "end_time": "2022-02-23T00:48:14.768789Z",
     "start_time": "2022-02-23T00:48:11.799277Z"
    }
   },
   "outputs": [
    {
     "data": {
      "text/plain": [
       "<AxesSubplot:xlabel='price'>"
      ]
     },
     "execution_count": 34,
     "metadata": {},
     "output_type": "execute_result"
    },
    {
     "data": {
      "image/png": "[encoded data removed]",
      "text/plain": [
       "<Figure size 1800x864 with 1 Axes>"
      ]
     },
     "metadata": {},
     "output_type": "display_data"
    }
   ],
   "source": [
    "sns.distplot(df4['price'], kde = False)"
   ]
  },
  {
   "cell_type": "markdown",
   "id": "92d3c4fc",
   "metadata": {},
   "source": [
    "### 4.1.2 Numerical Variable"
   ]
  },
  {
   "cell_type": "code",
   "execution_count": 35,
   "id": "0eba9d48",
   "metadata": {
    "ExecuteTime": {
     "end_time": "2022-02-23T00:48:37.944463Z",
     "start_time": "2022-02-23T00:48:14.831758Z"
    }
   },
   "outputs": [
    {
     "data": {
      "image/png": "[encoded data removed]",
      "text/plain": [
       "<Figure size 1800x864 with 20 Axes>"
      ]
     },
     "metadata": {},
     "output_type": "display_data"
    }
   ],
   "source": [
    "num_attributes.hist(bins=25);"
   ]
  },
  {
   "cell_type": "markdown",
   "id": "e60068e9",
   "metadata": {},
   "source": [
    "## 4.2 Bivariate Analysis"
   ]
  },
  {
   "cell_type": "markdown",
   "id": "5aaba56c",
   "metadata": {},
   "source": [
    "### H1: Houses that have waterview, are 3 times more expansive, in mean, than houses without waterview.\n",
    "### True"
   ]
  },
  {
   "cell_type": "code",
   "execution_count": 36,
   "id": "83b84490",
   "metadata": {
    "ExecuteTime": {
     "end_time": "2022-02-23T00:48:38.986074Z",
     "start_time": "2022-02-23T00:48:37.954684Z"
    }
   },
   "outputs": [
    {
     "data": {
      "text/plain": [
       "<BarContainer object of 2 artists>"
      ]
     },
     "execution_count": 36,
     "metadata": {},
     "output_type": "execute_result"
    },
    {
     "data": {
      "image/png": "[encoded data removed]",
      "text/plain": [
       "<Figure size 864x576 with 1 Axes>"
      ]
     },
     "metadata": {},
     "output_type": "display_data"
    }
   ],
   "source": [
    "water_price = df4[['waterfront', 'price']].groupby('waterfront').mean().reset_index()\n",
    "plt.figure(figsize=(12, 8))\n",
    "plt.bar(water_price['waterfront'], water_price['price'])"
   ]
  },
  {
   "cell_type": "markdown",
   "id": "272c25f9",
   "metadata": {},
   "source": [
    "### H2: Houses with built year below 1955, are 50% cheaper, in average.\n",
    "### FALSE: the average price of houses built before or after 1955 are approximately the same."
   ]
  },
  {
   "cell_type": "code",
   "execution_count": 37,
   "id": "7a9e5a1c",
   "metadata": {
    "ExecuteTime": {
     "end_time": "2022-02-23T00:48:39.596625Z",
     "start_time": "2022-02-23T00:48:38.997021Z"
    }
   },
   "outputs": [
    {
     "data": {
      "text/plain": [
       "<BarContainer object of 2 artists>"
      ]
     },
     "execution_count": 37,
     "metadata": {},
     "output_type": "execute_result"
    },
    {
     "data": {
      "image/png": "[encoded data removed]",
      "text/plain": [
       "<Figure size 864x576 with 1 Axes>"
      ]
     },
     "metadata": {},
     "output_type": "display_data"
    }
   ],
   "source": [
    "below_1955 = ['yr_built < 1955',  df4.loc[df4['yr_built']< pd.to_datetime('1955'), 'price'].mean()]\n",
    "above_1955 = ['yr_built >= 1955', df4.loc[df4['yr_built']>=pd.to_datetime('1955'), 'price'].mean()]\n",
    "                                      \n",
    "plt.figure(figsize=(12, 8))\n",
    "plt.bar([below_1955[0], above_1955[0]], [below_1955[1], above_1955[1]])"
   ]
  },
  {
   "cell_type": "markdown",
   "id": "5a06c786",
   "metadata": {
    "ExecuteTime": {
     "end_time": "2022-02-22T12:54:21.137814Z",
     "start_time": "2022-02-22T12:54:21.115692Z"
    }
   },
   "source": [
    "### H3: Houses with basement have sqft lot 50% larger than the houses without basement.\n",
    "### FALSE: It is just about 20% larger"
   ]
  },
  {
   "cell_type": "code",
   "execution_count": 38,
   "id": "47823b45",
   "metadata": {
    "ExecuteTime": {
     "end_time": "2022-02-23T00:48:40.255688Z",
     "start_time": "2022-02-23T00:48:39.608627Z"
    }
   },
   "outputs": [
    {
     "data": {
      "text/plain": [
       "<BarContainer object of 2 artists>"
      ]
     },
     "execution_count": 38,
     "metadata": {},
     "output_type": "execute_result"
    },
    {
     "data": {
      "image/png": "[encoded data removed]",
      "text/plain": [
       "<Figure size 864x576 with 1 Axes>"
      ]
     },
     "metadata": {},
     "output_type": "display_data"
    }
   ],
   "source": [
    "with_basement    = ['with basement'   , df4.loc[df4['sqft_basement']> 0, 'sqft_lot'].mean()]\n",
    "without_basement = ['without basement', df4.loc[df4['sqft_basement']==0, 'sqft_lot'].mean()]\n",
    "\n",
    "plt.figure(figsize=(12, 8))\n",
    "plt.bar([with_basement[0], without_basement[0]], [with_basement[1], without_basement[1]])"
   ]
  },
  {
   "cell_type": "markdown",
   "id": "1e43e426",
   "metadata": {},
   "source": [
    "### H4: The price evolution of houses YoY ( Year over Year ) is 10%.\n",
    "### FALSE: the growth YoY is only about 1 %"
   ]
  },
  {
   "cell_type": "code",
   "execution_count": 39,
   "id": "a60fb46c",
   "metadata": {
    "ExecuteTime": {
     "end_time": "2022-02-23T00:48:40.325655Z",
     "start_time": "2022-02-23T00:48:40.266291Z"
    }
   },
   "outputs": [
    {
     "data": {
      "text/html": [
       "<div>\n",
       "<style scoped>\n",
       "    .dataframe tbody tr th:only-of-type {\n",
       "        vertical-align: middle;\n",
       "    }\n",
       "\n",
       "    .dataframe tbody tr th {\n",
       "        vertical-align: top;\n",
       "    }\n",
       "\n",
       "    .dataframe thead th {\n",
       "        text-align: right;\n",
       "    }\n",
       "</style>\n",
       "<table border=\"1\" class=\"dataframe\">\n",
       "  <thead>\n",
       "    <tr style=\"text-align: right;\">\n",
       "      <th></th>\n",
       "      <th>year</th>\n",
       "      <th>price</th>\n",
       "      <th>diff(%)</th>\n",
       "    </tr>\n",
       "  </thead>\n",
       "  <tbody>\n",
       "    <tr>\n",
       "      <th>0</th>\n",
       "      <td>2014</td>\n",
       "      <td>539321.49</td>\n",
       "      <td>NaN</td>\n",
       "    </tr>\n",
       "    <tr>\n",
       "      <th>1</th>\n",
       "      <td>2015</td>\n",
       "      <td>543108.29</td>\n",
       "      <td>0.70</td>\n",
       "    </tr>\n",
       "  </tbody>\n",
       "</table>\n",
       "</div>"
      ],
      "text/plain": [
       "   year     price  diff(%)\n",
       "0  2014 539321.49      NaN\n",
       "1  2015 543108.29     0.70"
      ]
     },
     "execution_count": 39,
     "metadata": {},
     "output_type": "execute_result"
    }
   ],
   "source": [
    "avg_year = df4[['year', 'price']].groupby('year').mean().reset_index()\n",
    "avg_year['diff(%)'] = ((avg_year['price'].diff(1))/avg_year['price'])*100\n",
    "avg_year"
   ]
  },
  {
   "cell_type": "markdown",
   "id": "b5221894",
   "metadata": {},
   "source": [
    "### H5: Houses with 3 bathrooms has an growth MoM ( Month over Month ) of 15%.\n",
    "### FALSE: the growth MoM is about 0%"
   ]
  },
  {
   "cell_type": "code",
   "execution_count": 40,
   "id": "5cfcf15c",
   "metadata": {
    "ExecuteTime": {
     "end_time": "2022-02-23T00:48:40.428553Z",
     "start_time": "2022-02-23T00:48:40.337000Z"
    }
   },
   "outputs": [
    {
     "data": {
      "text/plain": [
       "-0.3038046338352459"
      ]
     },
     "execution_count": 40,
     "metadata": {},
     "output_type": "execute_result"
    }
   ],
   "source": [
    "avg_month = df4.loc[df4['bathrooms'] == 3, ['date', 'month', 'price']].sort_values('date', ascending = True)\n",
    "avg_month_14 = avg_month.loc[avg_month['date'].dt.year == 2014].groupby('month').mean().reset_index()\n",
    "avg_month_15 = avg_month.loc[avg_month['date'].dt.year == 2015].groupby('month').mean().reset_index()\n",
    "avg_mom = pd.concat([avg_month_14, avg_month_15], axis = 0)\n",
    "avg_mom['diff(%)'] = (avg_mom['price'].diff(1))/avg_mom['price']*100\n",
    "avg_mom['diff(%)'].mean()"
   ]
  },
  {
   "cell_type": "markdown",
   "id": "b3fe1d47",
   "metadata": {},
   "source": [
    "### H6: Houses with 3 bedrooms has an growth MoM ( Month over Month ) of 20%.\n",
    "### FALSE: the growth MoM of houses with three bedrooms is about 0%"
   ]
  },
  {
   "cell_type": "code",
   "execution_count": 41,
   "id": "11e800f0",
   "metadata": {
    "ExecuteTime": {
     "end_time": "2022-02-23T00:48:40.528811Z",
     "start_time": "2022-02-23T00:48:40.439152Z"
    }
   },
   "outputs": [
    {
     "data": {
      "text/plain": [
       "-0.046948629127680976"
      ]
     },
     "execution_count": 41,
     "metadata": {},
     "output_type": "execute_result"
    }
   ],
   "source": [
    "avg_month_bed = df4.loc[df4['bedrooms'] == 3, ['date', 'month', 'price']].sort_values('date', ascending = True)\n",
    "avg_month_bed_14 = avg_month_bed.loc[avg_month_bed['date'].dt.year == 2014].groupby('month').mean().reset_index()\n",
    "avg_month_bed_15 = avg_month_bed.loc[avg_month_bed['date'].dt.year == 2015].groupby('month').mean().reset_index()\n",
    "avg_mom_bed = pd.concat([avg_month_bed_14, avg_month_bed_15], axis = 0)\n",
    "avg_mom_bed['diff(%)'] = (avg_mom_bed['price'].diff(1))/avg_mom_bed['price']*100\n",
    "avg_mom_bed['diff(%)'].mean()"
   ]
  },
  {
   "cell_type": "markdown",
   "id": "6fbbc0f8",
   "metadata": {},
   "source": [
    "### H7: Houses built among decades of 40 and 70 are cheaper than all other houses built in other decades.\n",
    "### TRUE"
   ]
  },
  {
   "cell_type": "code",
   "execution_count": 42,
   "id": "5554e922",
   "metadata": {
    "ExecuteTime": {
     "end_time": "2022-02-23T00:48:42.882360Z",
     "start_time": "2022-02-23T00:48:40.540483Z"
    }
   },
   "outputs": [
    {
     "data": {
      "text/plain": [
       "[<matplotlib.lines.Line2D at 0x7f2a900cefa0>]"
      ]
     },
     "execution_count": 42,
     "metadata": {},
     "output_type": "execute_result"
    },
    {
     "data": {
      "image/png": "[encoded data removed]",
      "text/plain": [
       "<Figure size 864x576 with 1 Axes>"
      ]
     },
     "metadata": {},
     "output_type": "display_data"
    },
    {
     "data": {
      "image/png": "[encoded data removed]",
      "text/plain": [
       "<Figure size 864x576 with 1 Axes>"
      ]
     },
     "metadata": {},
     "output_type": "display_data"
    }
   ],
   "source": [
    "avg_40_70 = df4.loc[(df4['yr_built'] >=pd.to_datetime('1940')) & \n",
    "                     (df4['yr_built']<=pd.to_datetime('1970')), \n",
    "                     ['yr_built', 'price']].groupby('yr_built').mean().reset_index()\n",
    "\n",
    "avg_40_70 = ['1940 <= yr_built <= 1970', avg_40_70['price'].mean()]\n",
    "\n",
    "avg_40 = df4.loc[df4['yr_built']<pd.to_datetime('1940'), \n",
    "                     ['yr_built', 'price']].groupby('yr_built').mean().reset_index()\n",
    "\n",
    "avg_40 = ['yr_built < 1940', avg_40['price'].mean()]\n",
    "avg_70 = df4.loc[df4['yr_built']<pd.to_datetime('1940'), \n",
    "                     ['yr_built', 'price']].groupby('yr_built').mean().reset_index()\n",
    "\n",
    "avg_70 = ['yr_built > 1970', avg_70['price'].mean()]\n",
    "\n",
    "plt.figure(figsize = (12, 8))\n",
    "plt.bar([avg_40[0], avg_40_70[0], avg_70[0]], [avg_40[1], avg_40_70[1], avg_70[1]])\n",
    "\n",
    "by_year = df4[['price', 'yr_built']].groupby('yr_built').mean().reset_index()\n",
    "plt.figure(figsize = (12, 8))\n",
    "plt.plot(by_year['yr_built'], by_year['price'])"
   ]
  },
  {
   "cell_type": "markdown",
   "id": "a2c2239b",
   "metadata": {},
   "source": [
    "### H8: The prices increases accordingly to the newest year the house was renovated at 10% rate.\n",
    "### FLASE: considering the year renovated, the average prices are decrising by about -8%."
   ]
  },
  {
   "cell_type": "code",
   "execution_count": 43,
   "id": "4626d2c8",
   "metadata": {
    "ExecuteTime": {
     "end_time": "2022-02-23T00:48:44.646138Z",
     "start_time": "2022-02-23T00:48:42.893352Z"
    }
   },
   "outputs": [
    {
     "data": {
      "text/plain": [
       "-7.958717529877701"
      ]
     },
     "execution_count": 43,
     "metadata": {},
     "output_type": "execute_result"
    },
    {
     "data": {
      "image/png": "[encoded data removed]",
      "text/plain": [
       "<Figure size 864x576 with 1 Axes>"
      ]
     },
     "metadata": {},
     "output_type": "display_data"
    }
   ],
   "source": [
    "renovated = df4.loc[df4['yr_renovated']>pd.to_datetime('1930'), ['yr_renovated', 'price']].groupby('yr_renovated').mean().reset_index()\n",
    "renovated['diff(%)']=(renovated['price'].diff(1))/renovated['price']*100\n",
    "\n",
    "plt.figure(figsize=(12, 8))\n",
    "sns.lineplot(x='yr_renovated', y='price', data=renovated)\n",
    "\n",
    "renovated['diff(%)'].mean()"
   ]
  },
  {
   "cell_type": "markdown",
   "id": "15b4cbde",
   "metadata": {},
   "source": [
    "### H9: Houses with two floors are 30% more expensive than those with one.\n",
    "### TRUE"
   ]
  },
  {
   "cell_type": "code",
   "execution_count": 44,
   "id": "e40d6324",
   "metadata": {
    "ExecuteTime": {
     "end_time": "2022-02-23T00:48:45.267754Z",
     "start_time": "2022-02-23T00:48:44.656325Z"
    }
   },
   "outputs": [
    {
     "data": {
      "text/plain": [
       "<BarContainer object of 2 artists>"
      ]
     },
     "execution_count": 44,
     "metadata": {},
     "output_type": "execute_result"
    },
    {
     "data": {
      "image/png": "[encoded data removed]",
      "text/plain": [
       "<Figure size 864x576 with 1 Axes>"
      ]
     },
     "metadata": {},
     "output_type": "display_data"
    }
   ],
   "source": [
    "floor_2 = df4.loc[df4['floors'] == 2, 'price'].mean()\n",
    "floor_2 = ['2 Floor', floor_2]\n",
    "\n",
    "floor_1 = df4.loc[df4['floors'] == 1, 'price'].mean()\n",
    "floor_1 = ['1 Floors', floor_1]\n",
    "\n",
    "plt.figure(figsize = (12, 8))\n",
    "plt.bar([floor_1[0], floor_2[0]], [floor_1[1], floor_2[1]])"
   ]
  },
  {
   "cell_type": "markdown",
   "id": "bb63d394",
   "metadata": {},
   "source": [
    "### H10: Houses with at least two bathrooms are 10% more expensive than those with one.\n",
    "### FALSE: Houses with at least two bathrooms are about 30% more expensive than those with one."
   ]
  },
  {
   "cell_type": "code",
   "execution_count": 45,
   "id": "23a611e9",
   "metadata": {
    "ExecuteTime": {
     "end_time": "2022-02-23T00:48:45.891869Z",
     "start_time": "2022-02-23T00:48:45.277465Z"
    }
   },
   "outputs": [
    {
     "data": {
      "text/plain": [
       "<BarContainer object of 2 artists>"
      ]
     },
     "execution_count": 45,
     "metadata": {},
     "output_type": "execute_result"
    },
    {
     "data": {
      "image/png": "[encoded data removed]",
      "text/plain": [
       "<Figure size 864x576 with 1 Axes>"
      ]
     },
     "metadata": {},
     "output_type": "display_data"
    }
   ],
   "source": [
    "bath_2 = df4.loc[df4['bathrooms'] >= 2, 'price'].mean()\n",
    "bath_2 = ['2 Bathrooms', bath_2]\n",
    "\n",
    "bath_1 = df4.loc[df4['floors'] == 1, 'price'].mean()\n",
    "bath_1 = ['1 Bathrooms', bath_1]\n",
    "\n",
    "plt.figure(figsize = (12, 8))\n",
    "plt.bar([bath_1[0], bath_2[0]], [bath_1[1], bath_2[1]])"
   ]
  },
  {
   "cell_type": "markdown",
   "id": "90fc7638",
   "metadata": {},
   "source": [
    "### 4.2.2 Summary of Hypotheses"
   ]
  },
  {
   "cell_type": "code",
   "execution_count": 46,
   "id": "a0054e84",
   "metadata": {
    "ExecuteTime": {
     "end_time": "2022-02-23T00:48:45.935425Z",
     "start_time": "2022-02-23T00:48:45.902377Z"
    }
   },
   "outputs": [
    {
     "name": "stdout",
     "output_type": "stream",
     "text": [
      "Hyphotesis    Conclusion    Relevancy\n",
      "------------  ------------  -----------\n",
      "H1            True          High\n",
      "H2            False         Average\n",
      "H3            False         Low\n",
      "H4            False         High\n",
      "H5            False         High\n",
      "H6            False         Low\n",
      "H7            True          Average\n",
      "H8            False         Low\n",
      "H9            True          Low\n",
      "H10           False         Average\n"
     ]
    }
   ],
   "source": [
    "tab =[['Hyphotesis', 'Conclusion',  'Relevancy'],\n",
    "      ['H1',         'True',        'High'],\n",
    "      ['H2',         'False',       'Average'],\n",
    "      ['H3',         'False',       'Low'],\n",
    "      ['H4',         'False',       'High'],\n",
    "      ['H5',         'False',       'High'],\n",
    "      ['H6',         'False',       'Low'],\n",
    "      ['H7',         'True',        'Average'],\n",
    "      ['H8',         'False',       'Low'],\n",
    "      ['H9',         'True',        'Low'],\n",
    "      ['H10',        'False',       'Average']]\n",
    "\n",
    "print(tabulate(tab, headers='firstrow'))"
   ]
  },
  {
   "cell_type": "markdown",
   "id": "229fce08",
   "metadata": {},
   "source": [
    "# 5. SELL/ PURCHASE RECOMENDATION"
   ]
  },
  {
   "cell_type": "code",
   "execution_count": 47,
   "id": "f833a3d0",
   "metadata": {
    "ExecuteTime": {
     "end_time": "2022-02-23T00:48:45.959290Z",
     "start_time": "2022-02-23T00:48:45.945629Z"
    }
   },
   "outputs": [],
   "source": [
    "df5 = df4.copy()"
   ]
  },
  {
   "cell_type": "code",
   "execution_count": 48,
   "id": "7ef7edad",
   "metadata": {
    "ExecuteTime": {
     "end_time": "2022-02-23T00:48:46.011266Z",
     "start_time": "2022-02-23T00:48:45.969096Z"
    }
   },
   "outputs": [],
   "source": [
    "df5['status'] = df5['condition'].apply(lambda x: 'Buy' if x>2 else 'Not Buy')"
   ]
  },
  {
   "cell_type": "code",
   "execution_count": 49,
   "id": "3056147d",
   "metadata": {
    "ExecuteTime": {
     "end_time": "2022-02-23T00:49:53.630837Z",
     "start_time": "2022-02-23T00:48:46.019785Z"
    }
   },
   "outputs": [],
   "source": [
    "df5['season'] = df5['date'].apply(lambda x: 'Spring' \n",
    "                                    if ((x >= pd.to_datetime('2014-03-20')) & (x < pd.to_datetime('2014-06-21')))\n",
    "                                    |  ((x >= pd.to_datetime('2015-03-20')) & (x < pd.to_datetime('2015-06-21')))\n",
    "                                    else 'Summer'\n",
    "                                    if (x >= pd.to_datetime('2014-06-21')) & (x < pd.to_datetime('2014-09-22'))\n",
    "                                    else 'Fall'\n",
    "                                    if (x >= pd.to_datetime('2014-09-22')) & (x < pd.to_datetime('2014-12-21'))\n",
    "                                    else 'Winter')"
   ]
  },
  {
   "cell_type": "code",
   "execution_count": 50,
   "id": "158ede2a",
   "metadata": {
    "ExecuteTime": {
     "end_time": "2022-02-23T00:50:01.181160Z",
     "start_time": "2022-02-23T00:49:53.638489Z"
    }
   },
   "outputs": [],
   "source": [
    "df5['sell_price'] = df5[['price', 'price_median', 'status']].apply(lambda x: \n",
    "                                   x['price']*1.3 if (x['price'] <  x['price_median']) & (x['status'] == 'Buy')\n",
    "                              else x['price']*1.1 if (x['price'] >= x['price_median']) & (x['status'] == 'Buy') \n",
    "                              else 0, axis = 1)\n",
    "\n",
    "df5['profit'] = df5[['sell_price', 'price']].apply(lambda x: \n",
    "                                            (x['sell_price'] - x['price']) if x['sell_price'] != 0\n",
    "                                       else 0, axis = 1)\n",
    "\n",
    "\n",
    "#for i in range(len(df5)):\n",
    "#    if (df5.loc[i, 'status']=='Buy'):\n",
    "#        if(df5.loc[i, 'price'] < df5.loc[i, 'price_median']):\n",
    "#            df5.loc[i, 'sell_price'] = df5.loc[i, 'price']*1.3\n",
    "#        else:\n",
    "#            df5.loc[i, 'sell_price'] = df5.loc[i, 'price']*1.1\n",
    "#        df5.loc[i, 'profit']     = df5.loc[i, 'sell_price'] - df5.loc[i, 'price']\n",
    "#    else:\n",
    "#        df5.loc[i, 'sell_price'] = 0\n",
    "#        df5.loc[i, 'profit']     = 0"
   ]
  },
  {
   "cell_type": "code",
   "execution_count": 51,
   "id": "dd05f542",
   "metadata": {
    "ExecuteTime": {
     "end_time": "2022-02-23T00:50:01.319474Z",
     "start_time": "2022-02-23T00:50:01.189217Z"
    },
    "scrolled": true
   },
   "outputs": [
    {
     "data": {
      "text/html": [
       "<div>\n",
       "<style scoped>\n",
       "    .dataframe tbody tr th:only-of-type {\n",
       "        vertical-align: middle;\n",
       "    }\n",
       "\n",
       "    .dataframe tbody tr th {\n",
       "        vertical-align: top;\n",
       "    }\n",
       "\n",
       "    .dataframe thead th {\n",
       "        text-align: right;\n",
       "    }\n",
       "</style>\n",
       "<table border=\"1\" class=\"dataframe\">\n",
       "  <thead>\n",
       "    <tr style=\"text-align: right;\">\n",
       "      <th></th>\n",
       "      <th>id</th>\n",
       "      <th>zipcode</th>\n",
       "      <th>price_median</th>\n",
       "      <th>price</th>\n",
       "      <th>sell_price</th>\n",
       "      <th>profit</th>\n",
       "      <th>season</th>\n",
       "    </tr>\n",
       "  </thead>\n",
       "  <tbody>\n",
       "    <tr>\n",
       "      <th>0</th>\n",
       "      <td>7129300520</td>\n",
       "      <td>98178</td>\n",
       "      <td>279000.00</td>\n",
       "      <td>221900.00</td>\n",
       "      <td>288470.00</td>\n",
       "      <td>66570.00</td>\n",
       "      <td>Fall</td>\n",
       "    </tr>\n",
       "    <tr>\n",
       "      <th>1</th>\n",
       "      <td>4060000240</td>\n",
       "      <td>98178</td>\n",
       "      <td>279000.00</td>\n",
       "      <td>205425.00</td>\n",
       "      <td>267052.50</td>\n",
       "      <td>61627.50</td>\n",
       "      <td>Summer</td>\n",
       "    </tr>\n",
       "    <tr>\n",
       "      <th>2</th>\n",
       "      <td>4058801670</td>\n",
       "      <td>98178</td>\n",
       "      <td>279000.00</td>\n",
       "      <td>445000.00</td>\n",
       "      <td>489500.00</td>\n",
       "      <td>44500.00</td>\n",
       "      <td>Summer</td>\n",
       "    </tr>\n",
       "    <tr>\n",
       "      <th>3</th>\n",
       "      <td>2976800796</td>\n",
       "      <td>98178</td>\n",
       "      <td>279000.00</td>\n",
       "      <td>236000.00</td>\n",
       "      <td>306800.00</td>\n",
       "      <td>70800.00</td>\n",
       "      <td>Fall</td>\n",
       "    </tr>\n",
       "    <tr>\n",
       "      <th>4</th>\n",
       "      <td>6874200960</td>\n",
       "      <td>98178</td>\n",
       "      <td>279000.00</td>\n",
       "      <td>170000.00</td>\n",
       "      <td>221000.00</td>\n",
       "      <td>51000.00</td>\n",
       "      <td>Winter</td>\n",
       "    </tr>\n",
       "    <tr>\n",
       "      <th>...</th>\n",
       "      <td>...</td>\n",
       "      <td>...</td>\n",
       "      <td>...</td>\n",
       "      <td>...</td>\n",
       "      <td>...</td>\n",
       "      <td>...</td>\n",
       "      <td>...</td>\n",
       "    </tr>\n",
       "    <tr>\n",
       "      <th>21431</th>\n",
       "      <td>2525049086</td>\n",
       "      <td>98039</td>\n",
       "      <td>1905000.00</td>\n",
       "      <td>2720000.00</td>\n",
       "      <td>2992000.00</td>\n",
       "      <td>272000.00</td>\n",
       "      <td>Fall</td>\n",
       "    </tr>\n",
       "    <tr>\n",
       "      <th>21432</th>\n",
       "      <td>2525049113</td>\n",
       "      <td>98039</td>\n",
       "      <td>1905000.00</td>\n",
       "      <td>1950000.00</td>\n",
       "      <td>2145000.00</td>\n",
       "      <td>195000.00</td>\n",
       "      <td>Summer</td>\n",
       "    </tr>\n",
       "    <tr>\n",
       "      <th>21433</th>\n",
       "      <td>3262300485</td>\n",
       "      <td>98039</td>\n",
       "      <td>1905000.00</td>\n",
       "      <td>2250000.00</td>\n",
       "      <td>2475000.00</td>\n",
       "      <td>225000.00</td>\n",
       "      <td>Spring</td>\n",
       "    </tr>\n",
       "    <tr>\n",
       "      <th>21434</th>\n",
       "      <td>6447300365</td>\n",
       "      <td>98039</td>\n",
       "      <td>1905000.00</td>\n",
       "      <td>2900000.00</td>\n",
       "      <td>3190000.00</td>\n",
       "      <td>290000.00</td>\n",
       "      <td>Fall</td>\n",
       "    </tr>\n",
       "    <tr>\n",
       "      <th>21435</th>\n",
       "      <td>3262300818</td>\n",
       "      <td>98039</td>\n",
       "      <td>1905000.00</td>\n",
       "      <td>1865000.00</td>\n",
       "      <td>2424500.00</td>\n",
       "      <td>559500.00</td>\n",
       "      <td>Winter</td>\n",
       "    </tr>\n",
       "  </tbody>\n",
       "</table>\n",
       "<p>21243 rows × 7 columns</p>\n",
       "</div>"
      ],
      "text/plain": [
       "               id  zipcode  price_median      price  sell_price    profit  \\\n",
       "0      7129300520    98178     279000.00  221900.00   288470.00  66570.00   \n",
       "1      4060000240    98178     279000.00  205425.00   267052.50  61627.50   \n",
       "2      4058801670    98178     279000.00  445000.00   489500.00  44500.00   \n",
       "3      2976800796    98178     279000.00  236000.00   306800.00  70800.00   \n",
       "4      6874200960    98178     279000.00  170000.00   221000.00  51000.00   \n",
       "...           ...      ...           ...        ...         ...       ...   \n",
       "21431  2525049086    98039    1905000.00 2720000.00  2992000.00 272000.00   \n",
       "21432  2525049113    98039    1905000.00 1950000.00  2145000.00 195000.00   \n",
       "21433  3262300485    98039    1905000.00 2250000.00  2475000.00 225000.00   \n",
       "21434  6447300365    98039    1905000.00 2900000.00  3190000.00 290000.00   \n",
       "21435  3262300818    98039    1905000.00 1865000.00  2424500.00 559500.00   \n",
       "\n",
       "       season  \n",
       "0        Fall  \n",
       "1      Summer  \n",
       "2      Summer  \n",
       "3        Fall  \n",
       "4      Winter  \n",
       "...       ...  \n",
       "21431    Fall  \n",
       "21432  Summer  \n",
       "21433  Spring  \n",
       "21434    Fall  \n",
       "21435  Winter  \n",
       "\n",
       "[21243 rows x 7 columns]"
      ]
     },
     "execution_count": 51,
     "metadata": {},
     "output_type": "execute_result"
    }
   ],
   "source": [
    "purchase_sell_rec = df5.loc[df5['status'] == 'Buy'][['id', 'zipcode', 'price_median', 'price', 'sell_price', 'profit', 'season']]\n",
    "purchase_sell_rec"
   ]
  },
  {
   "cell_type": "code",
   "execution_count": 52,
   "id": "573aed43",
   "metadata": {
    "ExecuteTime": {
     "end_time": "2022-02-23T00:51:11.488149Z",
     "start_time": "2022-02-23T00:51:11.448266Z"
    }
   },
   "outputs": [
    {
     "data": {
      "text/plain": [
       "price        11523953411.00\n",
       "sell_price   13489025920.10\n",
       "profit        1965072509.10\n",
       "dtype: float64"
      ]
     },
     "execution_count": 52,
     "metadata": {},
     "output_type": "execute_result"
    }
   ],
   "source": [
    "purchase_sell_rec[['price', 'sell_price', 'profit']].sum()"
   ]
  },
  {
   "cell_type": "code",
   "execution_count": 308,
   "id": "e9ec8c16",
   "metadata": {
    "ExecuteTime": {
     "end_time": "2022-02-22T17:40:31.370921Z",
     "start_time": "2022-02-22T17:40:30.902255Z"
    }
   },
   "outputs": [],
   "source": [
    "#define interactive buttons\n",
    "price_limit = widgets.IntSlider(\n",
    "    value = int(df5['price'].mean()),\n",
    "    min = int(df5['price'].min()),\n",
    "    max = int(df5['price'].max()),\n",
    "    step = 1,\n",
    "    description = 'Maximum Price',\n",
    "    disable = False,\n",
    "    style = {'description_width': 'initial'})\n",
    "\n",
    "living_limit = widgets.IntSlider(\n",
    "    value = int(df5['sqft_living'].mean()),\n",
    "    min = int(df5['sqft_living'].min()),\n",
    "    max = int(df5['sqft_living'].max()),\n",
    "    step = 1,\n",
    "    description = 'Minimum Living Room Size',\n",
    "    disable = False,\n",
    "    style = {'description_width': 'initial'})\n",
    "\n",
    "bathroom_limit = widgets.IntSlider(\n",
    "    value = int(df5['bathrooms'].mean()),\n",
    "    min = int(df5['bathrooms'].min()),\n",
    "    max = int(df5['bathrooms'].max()),\n",
    "    step = 1,\n",
    "    description = 'Minimum Bathrooms Values',\n",
    "    disable = False,\n",
    "    style = {'description_width': 'initial'})\n",
    "\n",
    "basement_limit = widgets.IntSlider(\n",
    "    value = df5['sqft_basement'].mean(),\n",
    "    min = df5['sqft_basement'].min(),\n",
    "    max = df5['sqft_basement'].max(),\n",
    "    step = 1,\n",
    "    description = 'Maximum Basement Size',\n",
    "    disable = False,\n",
    "    style = {'description_width': 'initial'})\n",
    "\n",
    "condition_limit = widgets.IntSlider(\n",
    "    value = df5['condition'].mean(),\n",
    "    min = df5['condition'].min(),\n",
    "    max = df5['condition'].max(),\n",
    "    step = 1,\n",
    "    description = 'House Minimum Condition',\n",
    "    disable = False,\n",
    "    style = {'description_width': 'initial'})\n",
    "\n",
    "yrbuilt_limit = widgets.IntSlider(\n",
    "    value = df5['yr_built'].dt.year.mean(),\n",
    "    min = df5['yr_built'].dt.year.min(),\n",
    "    max = df5['yr_built'].dt.year.max(),\n",
    "    step = 1,\n",
    "    description = 'Built Since Year',\n",
    "    disable = False,\n",
    "    style = {'description_width': 'initial'})\n",
    "\n",
    "waterfront_limit = widgets.Checkbox(\n",
    "    value = False,\n",
    "    description = 'Only waterfront',\n",
    "    disable = False,\n",
    "    indent = False)\n",
    "\n",
    "def update_map(df, price_limit, living_limit, bathroom_limit, basement_limit, condition_limit, yrbuilt_limit, waterfront_limit): #passa como argumento o df5set e o critério de seleção\n",
    "    #filter df5\n",
    "    if(waterfront_limit):\n",
    "        houses = df[(df['price'] < price_limit) &\n",
    "                   (df['sqft_living'] > living_limit) &\n",
    "                   (df['bathrooms'] >= bathroom_limit) &\n",
    "                   (df['sqft_basement'] < basement_limit) &\n",
    "                   (df['condition'] >= condition_limit) &\n",
    "                   (df['yr_built'].dt.year >= yrbuilt_limit) &\n",
    "                   (df['waterfront'] == waterfront_limit)][['id', 'lat', 'long', 'price', 'status']].copy()\n",
    "    elif(waterfront_limit == False):\n",
    "        houses = df[(df['price'] < price_limit) &\n",
    "                   (df['sqft_living'] > living_limit) &\n",
    "                   (df['bathrooms'] >= bathroom_limit) &\n",
    "                   (df['sqft_basement'] < basement_limit) &\n",
    "                   (df['condition'] >= condition_limit) &\n",
    "                   (df['yr_built'].dt.year >= yrbuilt_limit)][['id', 'lat', 'long', 'price', 'status']].copy()\n",
    "    \n",
    "    #plot map\n",
    "    fig = px.scatter_mapbox(houses,\n",
    "                           lat = 'lat',\n",
    "                           lon = 'long',\n",
    "                           color = 'status',\n",
    "                           size = 'price',\n",
    "                           color_continuous_scale = px.colors.cyclical.IceFire,\n",
    "                           size_max = 15,\n",
    "                           zoom = 9)\n",
    "    \n",
    "    fig.update_layout(mapbox_style = 'open-street-map')\n",
    "    fig.update_layout(height = 600, margin = {'r':0, 'l':0, 't':0 , 'b':0})\n",
    "    fig.show()"
   ]
  },
  {
   "cell_type": "code",
   "execution_count": 309,
   "id": "44b644f6",
   "metadata": {
    "ExecuteTime": {
     "end_time": "2022-02-22T17:40:34.689767Z",
     "start_time": "2022-02-22T17:40:33.876260Z"
    }
   },
   "outputs": [
    {
     "data": {
      "application/vnd.jupyter.widget-view+json": {
       "model_id": "721a1c2a76f040178a61162ab0da9de9",
       "version_major": 2,
       "version_minor": 0
      },
      "text/plain": [
       "interactive(children=(IntSlider(value=540529, description='Maximum Price', max=7700000, min=75000, style=Slide…"
      ]
     },
     "metadata": {},
     "output_type": "display_data"
    }
   ],
   "source": [
    "widgets.interactive(update_map, df = fixed(df5), \n",
    "                    price_limit = price_limit,\n",
    "                    living_limit = living_limit,\n",
    "                    bathroom_limit = bathroom_limit,\n",
    "                   basement_limit = basement_limit,\n",
    "                   condition_limit = condition_limit,\n",
    "                   yrbuilt_limit = yrbuilt_limit,\n",
    "                   waterfront_limit = waterfront_limit) # fixed mantém o dado ao se alterar os valores do filtro"
   ]
  },
  {
   "cell_type": "markdown",
   "id": "64164f93",
   "metadata": {
    "heading_collapsed": true
   },
   "source": [
    "# 6.0 DEPLOY"
   ]
  },
  {
   "cell_type": "code",
   "execution_count": null,
   "id": "38290258",
   "metadata": {
    "code_folding": [],
    "hidden": true
   },
   "outputs": [],
   "source": [
    "import ipywidgets     as widgets\n",
    "import seaborn        as sns\n",
    "import plotly.express as px\n",
    "import streamlit as st\n",
    "\n",
    "import pandas         as pd\n",
    "import numpy          as np\n",
    "\n",
    "from matplotlib       import pyplot    as plt\n",
    "\n",
    "from ipywidgets       import fixed,interact, interactive, fixed, interact_manual\n",
    "from geopy.geocoders  import Nominatim\n",
    "from tabulate         import tabulate\n",
    "from matplotlib       import gridspec\n",
    "from pathlib          import Path\n",
    "from folium.plugins   import MarkerCluster\n",
    "from streamlit_folium import folium_static\n",
    "from datetime         import datetime\n",
    "\n",
    "import geopandas\n",
    "import folium\n",
    "\n",
    "st.set_page_config(layout='wide')\n",
    "f_data = st.sidebar.checkbox('Show Portfolio Page')\n",
    "\n",
    "@st.cache(allow_output_mutation=True)\n",
    "def get_data(path):\n",
    "    data = pd.read_csv(path)\n",
    "\n",
    "    return data\n",
    "\n",
    "@st.cache(allow_output_mutation = True)\n",
    "def get_geofile(url):\n",
    "    geofile = geopandas.read_file(url)\n",
    "\n",
    "    return geofile\n",
    "\n",
    "def set_feature(data):\n",
    "    data['price_m2'] = data['price']/data['sqft_lot']\n",
    "\n",
    "    return data\n",
    "\n",
    "if f_data:\n",
    "    def overview_data(data):\n",
    "        # ==============\n",
    "        # Data Overview\n",
    "        # ==============\n",
    "        st.title('HOUSES CO')\n",
    "        st.title('Data Overview')\n",
    "        \n",
    "        f_zipcode = st.sidebar.multiselect('Enter zipcode', data['zipcode'].unique())\n",
    "        f_attributes = st.sidebar.multiselect('Enter columns', data.columns)\n",
    "\n",
    "        # Filter overview table\n",
    "        if   (f_zipcode != []) & (f_attributes != []):\n",
    "            ov_data = data.loc[data['zipcode'].isin(f_zipcode), f_attributes]\n",
    "        elif (f_zipcode != []) & (f_attributes == []):\n",
    "            ov_data = data.loc[data['zipcode'].isin(f_zipcode), :]\n",
    "        elif (f_zipcode == []) & (f_attributes != []):\n",
    "            ov_data = data.loc[:, f_attributes]\n",
    "        else:\n",
    "            ov_data = data.copy()\n",
    "        st.dataframe(ov_data)\n",
    "        \n",
    "        c1, c2 = st.columns((1, 1))\n",
    "            # Average metrics\n",
    "            \n",
    "        if (f_zipcode != []):\n",
    "            avg_data = data.loc[data['zipcode'].isin(f_zipcode), :]\n",
    "        else:\n",
    "            avg_data = data.copy()\n",
    "            \n",
    "        avg_data['price_m2'] = data['price_m2']\n",
    "        df1 = avg_data[['id', 'zipcode']].groupby('zipcode').count().reset_index()\n",
    "        df2 = avg_data[['price', 'zipcode']].groupby('zipcode').mean().reset_index()\n",
    "        df3 = avg_data[['sqft_living', 'zipcode']].groupby('zipcode').mean().reset_index()\n",
    "        df4 = avg_data[['price_m2', 'zipcode']].groupby('zipcode').count().reset_index()\n",
    "            \n",
    "        m1 = pd.merge(df1, df2, on='zipcode', how='inner')\n",
    "        m2 = pd.merge(m1,  df3, on='zipcode', how='inner')\n",
    "        df = pd.merge(m2,  df4, on='zipcode', how='inner')\n",
    "        df.columns = ['zipcode', 'total_houses', 'price', 'sqft_living', 'price/m2']\n",
    "        \n",
    "        c1.header('Average Values')\n",
    "        c1.dataframe(df, height=600)\n",
    "        \n",
    "            # Statistic Descriptive\n",
    "        if (f_attributes != []):\n",
    "            num_attributes = data[f_attributes].select_dtypes(include=['int64', 'float64'])\n",
    "        else:\n",
    "            num_attributes = data.select_dtypes(include=['int64', 'float64'])\n",
    "            \n",
    "        media   = pd.DataFrame(num_attributes.apply(np.mean))\n",
    "        mediana = pd.DataFrame(num_attributes.apply(np.median))\n",
    "        std     = pd.DataFrame(num_attributes.apply(np.std))\n",
    "        max_    = pd.DataFrame(num_attributes.apply(np.max))\n",
    "        min_    = pd.DataFrame(num_attributes.apply(np.min))\n",
    "        df1     = pd.concat([max_, min_, media, mediana, std], axis=1).reset_index()\n",
    "        df1.columns = ['attributes', 'max', 'min', 'mean', 'median', 'std']\n",
    "        \n",
    "        c2.header('Descriptive Analysis')\n",
    "        c2.dataframe(df1, height=600)\n",
    "        \n",
    "        return None\n",
    "    \n",
    "    def portfolio_density(data, geofile):\n",
    "        # =======================\n",
    "        # Densidade de Portfólio\n",
    "        # =======================\n",
    "        st.title('Region Overview')\n",
    "        \n",
    "        c1, c2 = st.columns((1, 1))\n",
    "        \n",
    "        c1.header('Portfolio Density')\n",
    "        \n",
    "        df = data\n",
    "        \n",
    "        # Base Map - Folium\n",
    "        density_map = folium.Map(location=[data['lat'].mean(), data['long'].mean()], default_zoom_start=15)\n",
    "        marker_cluster = MarkerCluster().add_to(density_map)\n",
    "        \n",
    "        for name, row in df.iterrows():\n",
    "            folium.Marker([row['lat'], row['long']], popup='Sold R${0} on: {1}. Features: {2} sqft, {3} bedrooms, {4} bathrooms, year built: {5}'\n",
    "                      .format(row['price'],\n",
    "                              row['date'],\n",
    "                              row['sqft_living'],\n",
    "                              row['bedrooms'],\n",
    "                              row['bathrooms'],\n",
    "                              row['yr_built'])).add_to(marker_cluster)\n",
    "        with c1:\n",
    "            folium_static(density_map)\n",
    "            \n",
    "        # Region Price Map\n",
    "        c2.header('Price Density')\n",
    "        df = data[['price', 'zipcode']].groupby('zipcode').mean().reset_index()\n",
    "        df.columns = ['ZIP', 'PRICE']\n",
    "\n",
    "        geofile = geofile[geofile['ZIP'].isin(df['ZIP'].tolist())]\n",
    "        region_price_map = folium.Map(location=[data['lat'].mean(),\n",
    "                                            data['long'].mean()],\n",
    "                                  default_zoom_start=15)\n",
    "        region_price_map.choropleth(data=df,\n",
    "                                geo_data=geofile,\n",
    "                                columns=['ZIP', 'PRICE'],\n",
    "                                key_on='feature.properties.ZIP',\n",
    "                                fill_color='YlOrRd',\n",
    "                                fill_opacity=0.7,\n",
    "                                line_opacity=0.2,\n",
    "                                legend_name='AVG PRICE')\n",
    "        with c2:\n",
    "            folium_static(region_price_map)\n",
    "            \n",
    "        return None\n",
    "    \n",
    "    def commercial_distribution(data):\n",
    "        # ==================================================\n",
    "        # Distribuição dos imóveis por categorias comerciais\n",
    "        # ==================================================\n",
    "        st.sidebar.title('Coomercial Options')\n",
    "        \n",
    "        st.title('Commercial Attributes')\n",
    "        \n",
    "        # Average Price per Year\n",
    "        data['date'] = pd.to_datetime(data['date']).dt.strftime('%Y-%m-%d')\n",
    "\n",
    "        min_year_built = int(data['yr_built'].min())\n",
    "        max_year_built = int(data['yr_built'].max())\n",
    "        st.sidebar.subheader('Select Max Year Built')\n",
    "        f_year_built = st.sidebar.slider('Year Built', min_year_built,\n",
    "                                     max_year_built,\n",
    "                                     max_year_built)\n",
    "        st.header('Average Price per Year Built')\n",
    "        \n",
    "        df = data.loc[data['yr_built'] < f_year_built]\n",
    "        df = df[['yr_built', 'price']].groupby('yr_built').mean().reset_index()\n",
    "\n",
    "        fig = px.line(df, x='yr_built', y='price')\n",
    "        st.plotly_chart(fig, use_container_width=True)\n",
    "        \n",
    "        # Average Price per Day\n",
    "        st.header('Average Price per Day')\n",
    "        st.sidebar.subheader('Select Max Date')\n",
    "\n",
    "        min_date = datetime.strptime(data['date'].min(), '%Y-%m-%d')\n",
    "        max_date = datetime.strptime(data['date'].max(), '%Y-%m-%d')\n",
    "\n",
    "        f_date = st.sidebar.slider('Date', min_date, max_date, max_date)\n",
    "    \n",
    "        data['date'] = pd.to_datetime(data['date'])\n",
    "        df = data.loc[data['date'] < f_date]\n",
    "        df = df[['date', 'price']].groupby('date').mean().reset_index()\n",
    "\n",
    "        fig = px.line(df, x='date', y='price')\n",
    "        st.plotly_chart(fig, use_container_width=True)\n",
    "        \n",
    "        # Histograma\n",
    "        st.header('Price Distribution')\n",
    "        st.sidebar.subheader('Select Max Price')\n",
    "\n",
    "        min_price = int(data['price'].min())\n",
    "        max_price = int(data['price'].max())\n",
    "        avg_price = int(data['price'].mean())\n",
    "        f_price = st.sidebar.slider('Price', min_price, max_price, max_price)\n",
    "        df = data.loc[data['price'] < f_price]\n",
    "\n",
    "        fig = px.histogram(df, x='price', nbins=50)\n",
    "        st.plotly_chart(fig, use_container_width=True)\n",
    "        \n",
    "        return None\n",
    "    \n",
    "    def attributes_distribution(data):\n",
    "        # ===============================================\n",
    "        # Distribuição dos imoveis por categorias físicas\n",
    "        # ===============================================\n",
    "        st.sidebar.title('Attributes Options')\n",
    "        \n",
    "        st.title('House Attributes')\n",
    "\n",
    "        f_bedrooms  = st.sidebar.selectbox('Max number of bedrooms',  sorted(set(data['bedrooms'].unique())))\n",
    "        f_bathrooms = st.sidebar.selectbox('Max number of bathrooms', sorted(set(data['bathrooms'].unique())))\n",
    "        \n",
    "        c1, c2 = st.columns(2)\n",
    "        \n",
    "        # House per bedroms\n",
    "        c1.header('Houses per bedrooms')\n",
    "        df = data[data['bedrooms'] < f_bedrooms]\n",
    "        fig = px.histogram(df, x='bedrooms', nbins=19)\n",
    "        c1.plotly_chart(fig, use_container_width=True)\n",
    "        \n",
    "        # House per bathrooms\n",
    "        c2.header('Houses per bathrooms')\n",
    "        df = data[data['bathrooms'] < f_bathrooms]\n",
    "        fig = px.histogram(df, x='bathrooms', nbins=19)\n",
    "        c2.plotly_chart(fig, use_container_width=True)\n",
    "        \n",
    "        # filters\n",
    "        f_floors = st.sidebar.selectbox('Max number of floor', sorted(set(data['floors'].unique())))\n",
    "        f_waterview = st.sidebar.checkbox('Water View')\n",
    "        \n",
    "        c1, c2 = st.columns(2)\n",
    "        \n",
    "        # House per floors\n",
    "        c1.header('House per floors')\n",
    "        df = data[data['floors'] < f_floors]\n",
    "        fig = px.histogram(df, x='floors', nbins=19)\n",
    "        c1.plotly_chart(fig, use_container_width=True)\n",
    "        \n",
    "        # House per water view\n",
    "        c2.header('Water View')\n",
    "        if f_waterview:\n",
    "            df = data[data['waterfront'] == 1]\n",
    "        else:\n",
    "            df = data.copy()\n",
    "            \n",
    "        fig = px.histogram(df, x='waterfront', nbins=10)\n",
    "        \n",
    "        c2.plotly_chart(fig, use_container_width=True)\n",
    "        \n",
    "        return None\n",
    "            \n",
    "######################################################################################################\t\t\n",
    "######################################################################################################\t\t\n",
    "######################################################################################################\n",
    "\n",
    "else:\n",
    "    \n",
    "    def sell_attributes(data):\n",
    "        \n",
    "        st.title('HOUSES CO')\n",
    "        st.title('Purchase/ Sell Table')\n",
    "        \n",
    "        st.sidebar.title('Table Filter')\n",
    "        \n",
    "        f_zipcode = st.sidebar.multiselect('Enter zipcode', data['zipcode'].unique())\n",
    "        \n",
    "        if (f_zipcode != []):\n",
    "            data = data.loc[data['zipcode'].isin(f_zipcode)]\n",
    "        else:\n",
    "            data = data.copy()\n",
    "               \n",
    "        df = data[['zipcode', 'price']].groupby('zipcode').median().reset_index()\n",
    "        \n",
    "        df.columns = ['zipcode', 'price_median']\n",
    "\n",
    "        data = pd.merge(data, df, on = 'zipcode', how = 'inner')\n",
    "        \n",
    "        data['status'] = data['condition'].apply(lambda x: 'Buy' if x>2 else 'Not Buy')\n",
    "        \n",
    "        data['date'] = pd.to_datetime(data['date'])\n",
    "        \n",
    "        data['season'] = data['date'].apply(lambda x: 'Spring' \n",
    "                                    if ((x >= pd.to_datetime('2014-03-20')) & (x < pd.to_datetime('2014-06-21')))\n",
    "                                    |  ((x >= pd.to_datetime('2015-03-20')) & (x < pd.to_datetime('2015-06-21')))\n",
    "                                    else 'Summer'\n",
    "                                    if (x >= pd.to_datetime('2014-06-21')) & (x < pd.to_datetime('2014-09-22'))\n",
    "                                    else 'Fall'\n",
    "                                    if (x >= pd.to_datetime('2014-09-22')) & (x < pd.to_datetime('2014-12-21'))\n",
    "                                    else 'Winter')   \n",
    "        \n",
    "        data['sell_price'] = data[['price', 'price_median', 'status']].apply(lambda x: \n",
    "                                   x['price']*1.3 if (x['price'] <  x['price_median']) & (x['status'] == 'Buy')\n",
    "                              else x['price']*1.1 if (x['price'] >= x['price_median']) & (x['status'] == 'Buy') \n",
    "                              else 0, axis = 1)\n",
    "\n",
    "        data['profit'] = data[['sell_price', 'price']].apply(lambda x: \n",
    "                                            (x['sell_price'] - x['price']) if x['sell_price'] != 0\n",
    "                                       else 0, axis = 1)\n",
    "        \n",
    "        purchase_sell_rec = data.loc[data['status'] == 'Buy'][['id', 'zipcode', 'price_median', 'price', 'sell_price', 'profit', 'season']]\n",
    "        \n",
    "        st.dataframe(purchase_sell_rec)\n",
    "        \n",
    "        return None\n",
    "\n",
    "    def update_map(data): \n",
    "        #filter data\n",
    "        st.title('Map Recomendations')\n",
    "        \n",
    "        st.sidebar.title('Map Filter')\n",
    "        \n",
    "        min_price = int(data['price'].min())\n",
    "        max_price = int(data['price'].max())\n",
    "        avg_price = int(data['price'].mean())\n",
    "        price_limit = st.sidebar.slider('Price', min_price, max_price, max_price)\n",
    "        \n",
    "        value = int(data['sqft_living'].mean())\n",
    "        min_ = int(data['sqft_living'].min())\n",
    "        max_ = int(data['sqft_living'].max())\n",
    "        living_limit = st.sidebar.slider('Minimum Living Room Size', min_, max_, min_)\n",
    "    \n",
    "        value = int(data['bathrooms'].mean())\n",
    "        min_ = int(data['bathrooms'].min())\n",
    "        max_ = int(data['bathrooms'].max())\n",
    "        bathroom_limit = st.sidebar.slider('Minimum Bathrooms Values', min_, max_, min_)\n",
    "       \n",
    "        value = int(data['yr_built'].mean())\n",
    "        min_ =  int(data['yr_built'].min())\n",
    "        max_ =  int(data['yr_built'].max())\n",
    "        yrbuilt_limit  = st.sidebar.slider('Built Since Year', min_, max_, min_)#value)\n",
    "       \n",
    "        waterfront_limit = st.sidebar.checkbox('Only waterfront', value=False, disabled=False)\n",
    "\n",
    "        data['status'] = data['condition'].apply(lambda x: 'Buy' if x>2 else 'Not Buy')\n",
    "        \n",
    "        if(waterfront_limit):\n",
    "            houses = data[(data['price'] < price_limit) &\n",
    "                       (data['sqft_living'] > living_limit) &\n",
    "                       (data['bathrooms'] >= bathroom_limit) &\n",
    "                       (data['yr_built'] >= yrbuilt_limit) &\n",
    "                       (data['waterfront'] == waterfront_limit)][['id', 'lat', 'long', 'price', 'status']].copy()\n",
    "        elif(waterfront_limit == False):\n",
    "            houses = data[(data['price'] < price_limit) &\n",
    "                       (data['sqft_living'] > living_limit) &\n",
    "                       (data['bathrooms'] >= bathroom_limit) &\n",
    "                       (data['yr_built'] >= yrbuilt_limit)][['id', 'lat', 'long', 'price', 'status']].copy()\n",
    "        \n",
    "        #plot map\n",
    "        fig = px.scatter_mapbox(houses,\n",
    "                               lat = 'lat',\n",
    "                               lon = 'long',\n",
    "                               color = 'status',\n",
    "                               size = 'price',\n",
    "                               color_continuous_scale = px.colors.cyclical.IceFire,\n",
    "                               size_max = 15,\n",
    "                               zoom = 9)\n",
    "        \n",
    "        fig.update_layout(mapbox_style = 'open-street-map')\n",
    "        fig.update_layout(height = 600, margin = {'r':0, 'l':0, 't':0 , 'b':0})\n",
    "        st.plotly_chart(fig)\n",
    "\n",
    "\n",
    "if __name__ == \"__main__\":\n",
    "    \n",
    "    path = 'data/raw/kc_house_data.csv'\n",
    "        \n",
    "    data = get_data(path)\n",
    "        \n",
    "    if f_data:\n",
    "        \n",
    "        url = 'https://opendata.arcgis.com/datasets/83fc2e72903343aabff6de8cb445b81c_2.geojson'\n",
    "        \n",
    "        geofile = get_geofile( url )\n",
    "        \n",
    "        data = set_feature(data)\n",
    "        \n",
    "        overview_data(data)\n",
    "        \n",
    "        portfolio_density(data, geofile)\n",
    "    \n",
    "        commercial_distribution(data)\n",
    "    \n",
    "        attributes_distribution(data)\n",
    "        \n",
    "    else:\n",
    "        \n",
    "        sell_attributes(data)\n",
    "        \n",
    "        update_map(data)"
   ]
  }
 ],
 "metadata": {
  "kernelspec": {
   "display_name": "pythonzeroaods",
   "language": "python",
   "name": "pythonzeroaods"
  },
  "language_info": {
   "codemirror_mode": {
    "name": "ipython",
    "version": 3
   },
   "file_extension": ".py",
   "mimetype": "text/x-python",
   "name": "python",
   "nbconvert_exporter": "python",
   "pygments_lexer": "ipython3",
   "version": "3.8.0"
  },
  "varInspector": {
   "cols": {
    "lenName": 16,
    "lenType": 16,
    "lenVar": 40
   },
   "kernels_config": {
    "python": {
     "delete_cmd_postfix": "",
     "delete_cmd_prefix": "del ",
     "library": "var_list.py",
     "varRefreshCmd": "print(var_dic_list())"
    },
    "r": {
     "delete_cmd_postfix": ") ",
     "delete_cmd_prefix": "rm(",
     "library": "var_list.r",
     "varRefreshCmd": "cat(var_dic_list()) "
    }
   },
   "types_to_exclude": [
    "module",
    "function",
    "builtin_function_or_method",
    "instance",
    "_Feature"
   ],
   "window_display": false
  }
 },
 "nbformat": 4,
 "nbformat_minor": 5
}
